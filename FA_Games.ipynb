{
 "cells": [
  {
   "cell_type": "markdown",
   "metadata": {},
   "source": [
    "### Setup"
   ]
  },
  {
   "cell_type": "code",
   "execution_count": 1,
   "metadata": {
    "collapsed": true
   },
   "outputs": [],
   "source": [
    "import numpy as np\n",
    "import time\n",
    "import math\n",
    "import sys\n",
    "from scipy import stats\n",
    "\n",
    "import matplotlib.pyplot as plt\n",
    "% matplotlib inline\n",
    "\n",
    "if sys.version_info[0] >= 3:\n",
    "    inf = math.inf\n",
    "else:\n",
    "    inf = float(\"inf\")"
   ]
  },
  {
   "cell_type": "markdown",
   "metadata": {},
   "source": [
    "### Game Graph Class"
   ]
  },
  {
   "cell_type": "code",
   "execution_count": 2,
   "metadata": {
    "collapsed": true
   },
   "outputs": [],
   "source": [
    "class node:\n",
    "    '''A simple node in a binary tree'''\n",
    "    def __init__(self, value=None, left=None, right=None, parent=None):\n",
    "        self.value = value\n",
    "        self.left = left\n",
    "        self.right = right\n",
    "        self.parent = parent\n",
    "        \n",
    "def make_children(source):\n",
    "    '''Creates and returns left and right children for source node'''\n",
    "    left = node(parent=source)\n",
    "    right = node(parent=source)\n",
    "    source.left = left\n",
    "    source.right = right\n",
    "    return left, right\n",
    "\n",
    "def make_tree(n):\n",
    "    '''Builds a tree of depth n'''\n",
    "    source = node()\n",
    "    tree = [[] for i in range(n+1)]  # i is depth\n",
    "    tree[0].append(source)\n",
    "    # Add children depth-by-depth\n",
    "    for i in range(n):\n",
    "        for j in range(pow(2, i)):\n",
    "            tree[i+1]+=make_children(tree[i][j])\n",
    "    # Compute random leaf values\n",
    "    for leaf in tree[-1]:\n",
    "        leaf.value = 2*np.random.random()-1\n",
    "    return tree\n",
    "\n",
    "# def make_tree_fast(n):\n",
    "#     '''Builds a tree of depth n more efficiently'''\n",
    "#     # Create the root node\n",
    "#     tree = [[node()]]  # No parent\n",
    "    \n",
    "#     # Create the intermediate levels of the tree\n",
    "#     nodes = [range(2**depth) for depth in range(1, n)]   \n",
    "#     tree += [[node() for v in level] for level in nodes]\n",
    "    \n",
    "#     # Create the leaves\n",
    "#     tree += [[node() for v in range(2**n)]]  # No children\n",
    "\n",
    "#     # TODO: NEED TO CONNECT CHILDREN AND PARENTS OR CHANGE DFS ALGORITHM\n",
    "    \n",
    "#     # Compute random leaf values\n",
    "#     for leaf in tree[-1]:\n",
    "#         leaf.value = 2*np.random.random()-1\n",
    "#     return tree\n",
    "\n",
    "def print_tree(tree):\n",
    "    '''Prints value of all nodes in tree by depth'''\n",
    "    for depth, level in enumerate(tree):\n",
    "        vals = [v.value for v in level]\n",
    "        print('Depth {} has {} nodes: {}'.format(depth, len(vals), vals))\n",
    "    print('')\n",
    "\n",
    "def get_value(tree):    \n",
    "    '''Returns value of root node'''\n",
    "    return tree[0][0].value\n",
    "    \n",
    "def print_value(tree):\n",
    "    '''Prints value of root node'''\n",
    "    print('The value to the first player, Paul, is: {}'.format(get_value(tree)))"
   ]
  },
  {
   "cell_type": "markdown",
   "metadata": {},
   "source": [
    "### Value Calculation"
   ]
  },
  {
   "cell_type": "code",
   "execution_count": 4,
   "metadata": {
    "collapsed": false
   },
   "outputs": [],
   "source": [
    "def DFS_visit(node, Paul=True):\n",
    "    '''Computes the value for each node'''\n",
    "    if not node.value:\n",
    "        DFS_visit(node.left, Paul=not Paul)\n",
    "        DFS_visit(node.right, Paul=not Paul)\n",
    "        if node.left.value:\n",
    "            if node.right.value:\n",
    "                if Paul:  # Maximizing player\n",
    "                    node.value = max(node.left.value, node.right.value)\n",
    "                else:  # Minimizing player\n",
    "                    node.value = min(node.left.value, node.right.value)   \n",
    "\n",
    "def DFS_visit_fast(node, alpha, beta, Paul=True):\n",
    "    '''Computes the values for nodes with alpha-beta pruning to limit search'''\n",
    "    if not node.value:\n",
    "        if Paul:  # Maximizing player\n",
    "            v = -inf\n",
    "            for child in [node.left, node.right]:\n",
    "                DFS_visit_fast(child, alpha, beta, Paul=not Paul)\n",
    "                v = max(v, child.value)\n",
    "                alpha = max(alpha, v)\n",
    "                if beta <= alpha:\n",
    "                    print('I am breaking! beta cutoff')\n",
    "                    break\n",
    "        else:  # Minimizing player\n",
    "            v = inf\n",
    "            for child in [node.left, node.right]:\n",
    "                DFS_visit_fast(child, alpha, beta, Paul=not Paul)\n",
    "                v = min(v, child.value)\n",
    "                beta = min(beta, v)\n",
    "                if beta <= alpha:\n",
    "                    print('I am breaking! alpha cutoff')\n",
    "                    break\n",
    "        node.value = v"
   ]
  },
  {
   "cell_type": "code",
   "execution_count": null,
   "metadata": {
    "collapsed": false
   },
   "outputs": [
    {
     "name": "stdout",
     "output_type": "stream",
     "text": [
      "I am breaking! alpha cutoff\n",
      "I am breaking! beta cutoff\n",
      "I am breaking! alpha cutoff\n",
      "I am breaking! alpha cutoff\n",
      "I am breaking! alpha cutoff\n",
      "Depth 0 has 1 nodes: [0.6002142026313817]\n",
      "Depth 1 has 2 nodes: [0.6002142026313817, -0.6348593780700711]\n",
      "Depth 2 has 4 nodes: [0.6002142026313817, 0.7090035954974663, -0.6348593780700711, None]\n",
      "Depth 3 has 8 nodes: [0.6002142026313817, -0.8234779279345965, 0.7090035954974663, None, -0.9477134740196511, -0.6348593780700711, None, None]\n",
      "Depth 4 has 16 nodes: [0.6002142026313817, 0.706726106652547, -0.8234779279345965, -0.3489500016675917, 0.7219693910596154, 0.7090035954974663, 0.9859316546600638, -0.8150978198704071, -0.9477134740196511, 0.7407327543705551, -0.6348593780700711, 0.6861012133758722, 0.6988419178852705, 0.8595771104936125, -0.28438860099209506, 0.8924847197740196]\n",
      "\n",
      "The value to the first player, Paul, is: 0.600214202631\n"
     ]
    }
   ],
   "source": [
    "# Example tree:\n",
    "tree4 = make_tree(4)\n",
    "\n",
    "# Example calculation:                    \n",
    "#DFS_visit(tree4[0][0])\n",
    "DFS_visit_fast(tree4[0][0], -inf, inf)\n",
    "print_tree(tree4)\n",
    "print_value(tree4)"
   ]
  },
  {
   "cell_type": "markdown",
   "metadata": {},
   "source": [
    "### Simulations\n",
    "#### 1 Advantage to playing last? Test the effect of parity of tree depth."
   ]
  },
  {
   "cell_type": "code",
   "execution_count": null,
   "metadata": {
    "collapsed": false
   },
   "outputs": [
    {
     "name": "stdout",
     "output_type": "stream",
     "text": [
      "Time to make all even trees without speed-up: 50.8320000172 sec\n"
     ]
    }
   ],
   "source": [
    "# Create the lists of even and odd depths to use\n",
    "ks = np.random.randint(5, 10, 100)\n",
    "even_numbers = 2*ks\n",
    "plus_or_minus = np.random.choice((1, -1))\n",
    "odd_numbers = even_numbers + plus_or_minus\n",
    "\n",
    "# Build the trees\n",
    "t0 = time.time()\n",
    "even_trees_copy = [make_tree(n) for n in even_numbers]\n",
    "t1 = time.time()\n",
    "print('Time to make all even trees without speed-up: {} sec'.format(t1 - t0))\n",
    "\n",
    "# t0 = time.time()\n",
    "# even_trees = [make_tree_fast(n) for n in even_numbers]\n",
    "# t1 = time.time()\n",
    "# print('Time to make all even trees with speed-up: {} sec'.format(t1 - t0))\n",
    "\n",
    "odd_trees = [make_tree(n) for n in odd_numbers]\n",
    "\n",
    "# Compute values for the trees\n",
    "even_trees_copy2 = [make_tree(n) for n in even_numbers]\n",
    "t0 = time.time()\n",
    "for tree in even_trees_copy2:\n",
    "    DFS_visit(tree[0][0])\n",
    "t1 = time.time()\n",
    "print('Time to compute values for all even trees without alpha-beta pruning: {} sec'.format(t1 - t0))\n",
    "\n",
    "t0 = time.time()\n",
    "for tree in even_trees:\n",
    "    DFS_visit_fast(tree[0][0], -math.inf, math.inf)\n",
    "t1 = time.time()\n",
    "print('Time to compute values for all even trees with alpha-beta pruning: {} sec'.format(t1 - t0))\n",
    "\n",
    "for tree in odd_trees:\n",
    "    DFS_visit_fast(tree[0][0])    "
   ]
  },
  {
   "cell_type": "code",
   "execution_count": null,
   "metadata": {
    "collapsed": false
   },
   "outputs": [],
   "source": [
    "odd_values = [get_value(tree) for tree in odd_trees]\n",
    "even_values = [get_value(tree) for tree in even_trees]\n",
    "print('Mean value to Paul for odd trees: {}\\nMean value to Paul for even trees: {}'.format(np.mean(odd_values), np.mean(even_values)))\n",
    "stats.ttest_ind(odd_values, even_values, equal_var=False)\n",
    "# No advantage to playing last if pvalue > 0.05\n",
    "# Advantage to playing last if pvalue < 0.05"
   ]
  },
  {
   "cell_type": "markdown",
   "metadata": {},
   "source": [
    "#### 2. Advantage to playing first? Run t-test on all results against 0."
   ]
  },
  {
   "cell_type": "code",
   "execution_count": null,
   "metadata": {
    "collapsed": false
   },
   "outputs": [],
   "source": [
    "values = odd_values + even_values\n",
    "print('Mean value to Paul for odd and even trees: {}'.format(np.mean(values)))\n",
    "stats.ttest_1samp(values, popmean=0)\n",
    "# No advantage to playing first if pvalue > 0.05\n",
    "# Advantage to playing first if pvalue < 0.05"
   ]
  },
  {
   "cell_type": "markdown",
   "metadata": {},
   "source": [
    "#### 3. Variance and 4. Plot distribution of results"
   ]
  },
  {
   "cell_type": "code",
   "execution_count": null,
   "metadata": {
    "collapsed": false
   },
   "outputs": [],
   "source": [
    "ns = [15]*100\n",
    "trees15 = [make_tree(n) for n in ns]\n",
    "for tree in trees15:\n",
    "    DFS_visit_fast(tree[0][0])\n",
    "\n",
    "values = [get_value(tree) for tree in trees15]\n",
    "print('With depth of %d, the average value for the first player, Paul, is: %.2f' % (ns[0], np.mean(values)))\n",
    "print('With depth of %d, the standard deviation for the value for the first player, Paul, is: %.2f' % (ns[0], np.std(values)))\n",
    "\n",
    "n, bins, patches = plt.hist(values, bins=9)\n",
    "plt.xlabel('Value to the first player, Paul')\n",
    "plt.ylabel('Frequency')\n",
    "plt.title('Depth of %d' % ns[0])\n",
    "plt.show()\n",
    "\n",
    "ns = [16]*100\n",
    "trees16 = [make_tree(n) for n in ns]\n",
    "for tree in trees16:\n",
    "    DFS_visit_fast(tree[0][0])\n",
    "\n",
    "values = [get_value(tree) for tree in trees16]\n",
    "print('With depth of %d, the average value for the first player, Paul, is: %.2f' % (ns[0], np.mean(values)))\n",
    "print('With depth of %d, the standard deviation for the value for the first player, Paul, is: %.2f' % (ns[0], np.std(values)))\n",
    "\n",
    "n, bins, patches = plt.hist(values, bins=9)\n",
    "plt.xlabel('Value to the first player, Paul')\n",
    "plt.ylabel('Frequency')\n",
    "plt.title('Depth of %d' % ns[0])\n",
    "plt.show()"
   ]
  },
  {
   "cell_type": "markdown",
   "metadata": {
    "collapsed": true
   },
   "source": [
    "#### 5. Determine $\\lim_{n\\rightarrow \\infty}Value[s]$"
   ]
  },
  {
   "cell_type": "code",
   "execution_count": null,
   "metadata": {
    "collapsed": false
   },
   "outputs": [],
   "source": [
    "# ## Caution: this takes long unless you add alpha-beta pruning!\n",
    "# ### It likely kills the kernel\n",
    "# large_tree = make_tree(40)\n",
    "# time0 = time.time()\n",
    "# DFS_visit_fast(large_tree[0][0])\n",
    "# time1 = time.time()\n",
    "# print(\"Large tree value computation took %.3f seconds.\"(time1 - time0))"
   ]
  }
 ],
 "metadata": {
  "anaconda-cloud": {},
  "kernelspec": {
   "display_name": "Python 2",
   "language": "python",
   "name": "python2"
  },
  "language_info": {
   "codemirror_mode": {
    "name": "ipython",
    "version": 2
   },
   "file_extension": ".py",
   "mimetype": "text/x-python",
   "name": "python",
   "nbconvert_exporter": "python",
   "pygments_lexer": "ipython2",
   "version": "2.7.13"
  }
 },
 "nbformat": 4,
 "nbformat_minor": 2
}
