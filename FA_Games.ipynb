{
 "cells": [
  {
   "cell_type": "markdown",
   "metadata": {},
   "source": [
    "### Setup"
   ]
  },
  {
   "cell_type": "code",
   "execution_count": 1,
   "metadata": {
    "collapsed": true
   },
   "outputs": [],
   "source": [
    "from __future__ import division\n",
    "import numpy as np\n",
    "import time\n",
    "import math\n",
    "import sys\n",
    "from scipy import stats\n",
    "\n",
    "import matplotlib.pyplot as plt\n",
    "% matplotlib inline\n",
    "\n",
    "if sys.version_info[0] >= 3:\n",
    "    inf = math.inf\n",
    "else:\n",
    "    inf = float(\"inf\")"
   ]
  },
  {
   "cell_type": "markdown",
   "metadata": {},
   "source": [
    "### Game Graph Class"
   ]
  },
  {
   "cell_type": "code",
   "execution_count": 2,
   "metadata": {
    "collapsed": false
   },
   "outputs": [],
   "source": [
    "# Node class\n",
    "class node:\n",
    "    '''A simple node in a binary tree'''\n",
    "    def __init__(self, value=None, left=None, right=None, parent=None):\n",
    "        self.value = value\n",
    "        self.left = left\n",
    "        self.right = right\n",
    "        self.parent = parent\n",
    "\n",
    "# Naive implementation        \n",
    "def make_children(source):\n",
    "    '''Creates and returns left and right children for source node'''\n",
    "    left = node(parent=source)\n",
    "    right = node(parent=source)\n",
    "    source.left = left\n",
    "    source.right = right\n",
    "    return left, right\n",
    "\n",
    "def make_tree(n):\n",
    "    '''Builds a tree of depth n'''\n",
    "    source = node()\n",
    "    tree = [[] for i in range(n+1)]  # i is depth\n",
    "    tree[0].append(source)\n",
    "    # Add children depth-by-depth\n",
    "    for i in range(n):\n",
    "        for j in range(pow(2, i)):\n",
    "            tree[i+1]+=make_children(tree[i][j])\n",
    "    # Compute random leaf values\n",
    "    for leaf in tree[-1]:\n",
    "        leaf.value = 2*np.random.random()-1\n",
    "    return tree\n",
    "\n",
    "# Faster implementation\n",
    "def make_tree_fast(n):\n",
    "    '''Builds a tree of depth n without storing parent/child relationships'''\n",
    "    # Create the root node\n",
    "    source = [[node()]]\n",
    "    \n",
    "    # Create the middle levels of the tree\n",
    "    nodes = [range(2**depth) for depth in range(1, n)]\n",
    "    tree = [[node() for v in level] for level in nodes]\n",
    "\n",
    "    # Create the leaves\n",
    "    leaves = [[node(value=(2*np.random.random()-1)) for v in range(2**n)]]\n",
    "            \n",
    "    # Combine and return tree\n",
    "    tree = source + tree + leaves\n",
    "    return tree\n",
    "    \n",
    "# Utility functions\n",
    "def print_tree(tree):\n",
    "    '''Prints value of all nodes in tree by depth'''\n",
    "    for depth, level in enumerate(tree):\n",
    "        vals = [v.value for v in level]\n",
    "        print('Depth {} has {} nodes: {}'.format(depth, len(vals), vals))\n",
    "    print('')\n",
    "\n",
    "def get_value(tree):    \n",
    "    '''Returns value of root node'''\n",
    "    return tree[0][0].value\n",
    "    \n",
    "def print_value(tree):\n",
    "    '''Prints value of root node'''\n",
    "    print('The value to the first player, Paul, is: {}'.format(get_value(tree)))"
   ]
  },
  {
   "cell_type": "markdown",
   "metadata": {},
   "source": [
    "### Value Calculation"
   ]
  },
  {
   "cell_type": "code",
   "execution_count": 3,
   "metadata": {
    "collapsed": false
   },
   "outputs": [],
   "source": [
    "def DFS_visit(tree, depth=0, key=0, Paul=True):\n",
    "    '''Computes the value for each node'''\n",
    "    node = tree[depth][key]\n",
    "    if not node.value:\n",
    "        DFS_visit(tree, depth+1, 2*key, Paul=not Paul)  # Left\n",
    "        DFS_visit(tree, depth+1, 2*key+1, Paul=not Paul)  # Right\n",
    "        \n",
    "        left_child = tree[depth+1][2*key]\n",
    "        right_child = tree[depth+1][2*key+1]\n",
    "        \n",
    "        if left_child.value:\n",
    "            if right_child.value:\n",
    "                if Paul:  # Maximizing player\n",
    "                    node.value = max(left_child.value, right_child.value)\n",
    "                else:  # Minimizing player\n",
    "                    node.value = min(left_child.value, right_child.value)   \n",
    "\n",
    "def DFS_visit_fast(tree, depth=0, key=0, alpha=-inf, beta=inf, Paul=True):\n",
    "    '''Computes the values for nodes with alpha-beta pruning to limit search'''\n",
    "    node = tree[depth][key]\n",
    "    if not node.value:\n",
    "        LEFT = tree[depth+1][2*key]\n",
    "        RIGHT = tree[depth+1][2*key+1]\n",
    "\n",
    "        if Paul:  # Maximizing player\n",
    "            v = -inf\n",
    "            \n",
    "            # Left\n",
    "            DFS_visit_fast(tree, depth+1, 2*key, alpha, beta, Paul=not Paul)\n",
    "            v = max(v, tree[depth+1][2*key].value)\n",
    "            alpha = max(alpha, v)\n",
    "            \n",
    "            # Right\n",
    "            if beta > alpha:\n",
    "                DFS_visit_fast(tree, depth+1, 2*key+1, alpha, beta, Paul=not Paul)\n",
    "                v = max(v, tree[depth+1][2*key+1].value)\n",
    "                alpha = max(alpha, v)\n",
    "            \n",
    "        else:  # Minimizing player\n",
    "            v = inf\n",
    "            \n",
    "            # Left\n",
    "            DFS_visit_fast(tree, depth+1, 2*key, alpha, beta, Paul=not Paul)\n",
    "            v = min(v, tree[depth+1][2*key].value)\n",
    "            beta = min(beta, v)\n",
    "            \n",
    "            # Right\n",
    "            if beta > alpha:\n",
    "                DFS_visit_fast(tree, depth+1, 2*key+1, alpha, beta, Paul=not Paul)\n",
    "                v = min(v, tree[depth+1][2*key+1].value)\n",
    "                beta = min(beta, v)\n",
    "\n",
    "        node.value = v"
   ]
  },
  {
   "cell_type": "markdown",
   "metadata": {},
   "source": [
    "### Example"
   ]
  },
  {
   "cell_type": "code",
   "execution_count": null,
   "metadata": {
    "collapsed": false,
    "scrolled": false
   },
   "outputs": [
    {
     "name": "stdout",
     "output_type": "stream",
     "text": [
      "Time to build tree of depth 15 naively: 1.98399996758 sec\n",
      "Time to build tree of depth 15 more quickly: 1.72499990463 sec\n",
      "Time to compute values for tree of depth 15 without alpha-beta pruning: 0.995000123978 sec\n",
      "Time to compute values for tree of depth 15 with alpha-beta pruning: 0.0699999332428 sec\n",
      "\n",
      "The value to the first player, Paul, is: 0.273020956257\n",
      "\n",
      "The value to the first player, Paul, is: 0.273020956257\n"
     ]
    }
   ],
   "source": [
    "# Example tree:\n",
    "n = 15\n",
    "\n",
    "t0 = time.time()\n",
    "example = make_tree(n)\n",
    "t1 = time.time()\n",
    "print('Time to build tree of depth {} naively: {} sec'.format(n, t1 - t0))\n",
    "\n",
    "t0 = time.time()\n",
    "example = make_tree_fast(n)\n",
    "leaves = example[-1]\n",
    "t1 = time.time()\n",
    "print('Time to build tree of depth {} more quickly: {} sec'.format(n, t1 - t0))\n",
    "\n",
    "# Example calculation:                 \n",
    "t0 = time.time()\n",
    "DFS_visit(example)\n",
    "t1 = time.time()\n",
    "print('Time to compute values for tree of depth {} without alpha-beta pruning: {} sec'.format(n, t1 - t0))\n",
    "\n",
    "example = make_tree_fast(n)\n",
    "example[-1] = leaves  # Same values to compare with alpha-beta\n",
    "\n",
    "t0 = time.time()\n",
    "DFS_visit_fast(example)\n",
    "t1 = time.time()\n",
    "print('Time to compute values for tree of depth {} with alpha-beta pruning: {} sec'.format(n, t1 - t0))\n",
    "\n",
    "print('')\n",
    "if n < 5:\n",
    "    print_tree(example)\n",
    "print_value(example)\n",
    "\n",
    "print('')    \n",
    "if n < 5:\n",
    "    print_tree(example)\n",
    "print_value(example)"
   ]
  },
  {
   "cell_type": "markdown",
   "metadata": {},
   "source": [
    "### Simulations\n",
    "#### 1 Advantage to playing last? Test the effect of parity of tree depth."
   ]
  },
  {
   "cell_type": "code",
   "execution_count": null,
   "metadata": {
    "collapsed": false
   },
   "outputs": [],
   "source": [
    "# Create the lists of even and odd depths to use\n",
    "ks = np.random.randint(5, 10, 100)\n",
    "even_numbers = 2*ks\n",
    "plus_or_minus = np.random.choice((1, -1))\n",
    "odd_numbers = even_numbers + plus_or_minus\n",
    "\n",
    "# Build the trees\n",
    "even_trees = [make_tree_fast(n) for n in even_numbers]\n",
    "odd_trees = [make_tree_fast(n) for n in odd_numbers]\n",
    "\n",
    "# Compute values for the trees\n",
    "for tree in even_trees + odd_trees:\n",
    "    DFS_visit_fast(tree[0][0])"
   ]
  },
  {
   "cell_type": "code",
   "execution_count": null,
   "metadata": {
    "collapsed": false
   },
   "outputs": [],
   "source": [
    "odd_values = [get_value(tree) for tree in odd_trees]\n",
    "even_values = [get_value(tree) for tree in even_trees]\n",
    "print('Mean value to Paul for odd trees: {}\\nMean value to Paul for even trees: {}'.format(np.mean(odd_values), np.mean(even_values)))\n",
    "stats.ttest_ind(odd_values, even_values, equal_var=False)\n",
    "# No advantage to playing last if pvalue > 0.05\n",
    "# Advantage to playing last if pvalue < 0.05"
   ]
  },
  {
   "cell_type": "markdown",
   "metadata": {},
   "source": [
    "#### 2. Advantage to playing first? Run t-test on all results against 0."
   ]
  },
  {
   "cell_type": "code",
   "execution_count": null,
   "metadata": {
    "collapsed": false
   },
   "outputs": [],
   "source": [
    "values = odd_values + even_values\n",
    "print('Mean value to Paul for odd and even trees: {}'.format(np.mean(values)))\n",
    "stats.ttest_1samp(values, popmean=0)\n",
    "# No advantage to playing first if pvalue > 0.05\n",
    "# Advantage to playing first if pvalue < 0.05"
   ]
  },
  {
   "cell_type": "markdown",
   "metadata": {},
   "source": [
    "#### 3. Variance and 4. Plot distribution of results"
   ]
  },
  {
   "cell_type": "code",
   "execution_count": null,
   "metadata": {
    "collapsed": false
   },
   "outputs": [],
   "source": [
    "ns = [15]*100\n",
    "trees15 = [make_tree_fast(n) for n in ns]\n",
    "for tree in trees15:\n",
    "    DFS_visit_fast(tree[0][0])\n",
    "\n",
    "values = [get_value(tree) for tree in trees15]\n",
    "print('With depth of %d, the average value for the first player, Paul, is: %.2f' % (ns[0], np.mean(values)))\n",
    "print('With depth of %d, the standard deviation for the value for the first player, Paul, is: %.2f' % (ns[0], np.std(values)))\n",
    "\n",
    "n, bins, patches = plt.hist(values, bins=9)\n",
    "plt.xlabel('Value to the first player, Paul')\n",
    "plt.ylabel('Frequency')\n",
    "plt.title('Depth of %d' % ns[0])\n",
    "plt.show()\n",
    "\n",
    "ns = [16]*100\n",
    "trees16 = [make_tree_fast(n) for n in ns]\n",
    "for tree in trees16:\n",
    "    DFS_visit_fast(tree[0][0])\n",
    "\n",
    "values = [get_value(tree) for tree in trees16]\n",
    "print('With depth of %d, the average value for the first player, Paul, is: %.2f' % (ns[0], np.mean(values)))\n",
    "print('With depth of %d, the standard deviation for the value for the first player, Paul, is: %.2f' % (ns[0], np.std(values)))\n",
    "\n",
    "n, bins, patches = plt.hist(values, bins=9)\n",
    "plt.xlabel('Value to the first player, Paul')\n",
    "plt.ylabel('Frequency')\n",
    "plt.title('Depth of %d' % ns[0])\n",
    "plt.show()"
   ]
  },
  {
   "cell_type": "markdown",
   "metadata": {
    "collapsed": true
   },
   "source": [
    "#### 5. Determine $\\lim_{n\\rightarrow \\infty}Value[s]$"
   ]
  },
  {
   "cell_type": "code",
   "execution_count": null,
   "metadata": {
    "collapsed": false
   },
   "outputs": [],
   "source": [
    "t0 = time.time()\n",
    "large_tree = make_tree_fast(40)\n",
    "t1 = time.time()\n",
    "print('Time to build tree of depth {} without speed-up: {} sec'.format(n, t1 - t0))\n",
    "\n",
    "t0 = time.time()\n",
    "DFS_visit_fast(large_tree[0][0])\n",
    "t1 = time.time()\n",
    "print('Time to compute values for tree of depth {} with alpha-beta pruning: {} sec'.format(n, t1 - t0))"
   ]
  }
 ],
 "metadata": {
  "anaconda-cloud": {},
  "kernelspec": {
   "display_name": "Python 2",
   "language": "python",
   "name": "python2"
  },
  "language_info": {
   "codemirror_mode": {
    "name": "ipython",
    "version": 2
   },
   "file_extension": ".py",
   "mimetype": "text/x-python",
   "name": "python",
   "nbconvert_exporter": "python",
   "pygments_lexer": "ipython2",
   "version": "2.7.13"
  }
 },
 "nbformat": 4,
 "nbformat_minor": 2
}
