{
 "cells": [
  {
   "cell_type": "markdown",
   "metadata": {},
   "source": [
    "### Game Graph Class"
   ]
  },
  {
   "cell_type": "code",
   "execution_count": 33,
   "metadata": {
    "collapsed": true
   },
   "outputs": [],
   "source": [
    "class node:\n",
    "    def __init__(self, value=None, left=None, right=None, parent=None):\n",
    "        self.value=value\n",
    "        self.left = left\n",
    "        self.right = right\n",
    "        self.parent = parent\n",
    "        \n",
    "def make_children(source):\n",
    "    left = node(parent=source)\n",
    "    right = node(parent=source)\n",
    "    source.left = left\n",
    "    source.right = right\n",
    "    return left, right\n",
    "\n",
    "def make_tree(n):\n",
    "    source = node()\n",
    "    tree = [[] for  i in range(n+1)] #i is height\n",
    "    tree[0].append(source)\n",
    "    for i in range(n):\n",
    "        for j in range(pow(2, i)):\n",
    "            tree[i+1]+=make_children(tree[i][j])\n",
    "            \n",
    "    for j in range(pow(2, n)):\n",
    "        tree[n][j].value = np.random.random()\n",
    "    return tree\n",
    "\n"
   ]
  },
  {
   "cell_type": "markdown",
   "metadata": {},
   "source": [
    "### Value calculation"
   ]
  },
  {
   "cell_type": "code",
   "execution_count": 14,
   "metadata": {},
   "outputs": [
    {
     "data": {
      "text/plain": [
       "0.6239178410815344"
      ]
     },
     "execution_count": 14,
     "metadata": {},
     "output_type": "execute_result"
    }
   ],
   "source": [
    "# Example tree:\n",
    "tree4 = make_tree(4)\n",
    "import numpy as np\n",
    "for v in tree4[-1]:\n",
    "    v.value=np.random.random()\n",
    "    \n",
    "    \n",
    "def DFS_visit(node, Paul=True):\n",
    "    \n",
    "    if not node.value:\n",
    "        DFS_visit(node.left, Paul=not Paul)\n",
    "        DFS_visit(node.right, Paul=not Paul)\n",
    "        if node.left.value:\n",
    "            if node.right.value:\n",
    "                if Paul:\n",
    "                    node.value = max(node.left.value, node.right.value)\n",
    "                else:\n",
    "                    node.value = min(node.left.value, node.right.value)\n",
    "                    \n",
    "# Example calculation:                    \n",
    "DFS_visit(tree4[0][0])\n",
    "tree4[0][0].value"
   ]
  },
  {
   "cell_type": "markdown",
   "metadata": {},
   "source": [
    "### Simulations\n",
    "#### 1 Test the effect of parity of tree depth\n",
    "No significant effect"
   ]
  },
  {
   "cell_type": "code",
   "execution_count": 50,
   "metadata": {},
   "outputs": [
    {
     "name": "stdout",
     "output_type": "stream",
     "text": [
      "16.489085912704468\n",
      "15.867159843444824\n"
     ]
    }
   ],
   "source": [
    "ks = np.random.randint(5, 10, 100)\n",
    "even_numbers = 2*ks\n",
    "plus_or_minus = np.random.choice((1, -1))\n",
    "odd_numbers = even_numbers + plus_or_minus\n",
    "\n",
    "t0 = time.time()\n",
    "even_trees = [make_tree(n) for n in even_numbers]\n",
    "t1 = time.time()\n",
    "print(t1 - t0)\n",
    "\n",
    "odd_trees = [make_tree(n) for n in odd_numbers]\n",
    "\n",
    "\n",
    "t0 = time.time()\n",
    "for tree in even_trees:\n",
    "    DFS_visit(tree[0][0])\n",
    "t1 = time.time()\n",
    "print(t1 - t0)\n",
    "\n",
    "for tree in odd_trees:\n",
    "    DFS_visit(tree[0][0])    "
   ]
  },
  {
   "cell_type": "code",
   "execution_count": 51,
   "metadata": {},
   "outputs": [
    {
     "data": {
      "text/plain": [
       "Ttest_indResult(statistic=0.0, pvalue=1.0)"
      ]
     },
     "execution_count": 51,
     "metadata": {},
     "output_type": "execute_result"
    }
   ],
   "source": [
    "from scipy import stats\n",
    "odd_values = [tree[0][0].value for tree in odd_trees]\n",
    "even_values = [tree[0][0].value for tree in odd_trees]\n",
    "stats.ttest_ind(odd_values, even_values, equal_var=False) ### No advantage to playing last"
   ]
  },
  {
   "cell_type": "markdown",
   "metadata": {},
   "source": [
    "#### 2. Advantage to playing first? Run t-test on all results against 0.\n",
    "There's a significant advantage to playing first. "
   ]
  },
  {
   "cell_type": "code",
   "execution_count": 57,
   "metadata": {},
   "outputs": [
    {
     "data": {
      "text/plain": [
       "Ttest_1sampResult(statistic=416.01960097276236, pvalue=1.7170934343828929e-294)"
      ]
     },
     "execution_count": 57,
     "metadata": {},
     "output_type": "execute_result"
    }
   ],
   "source": [
    "values = odd_values + even_values\n",
    "stats.ttest_1samp(values, popmean=0) "
   ]
  },
  {
   "cell_type": "code",
   "execution_count": 59,
   "metadata": {},
   "outputs": [
    {
     "data": {
      "text/plain": [
       "0.62656827101437584"
      ]
     },
     "execution_count": 59,
     "metadata": {},
     "output_type": "execute_result"
    }
   ],
   "source": [
    "np.mean(values)"
   ]
  },
  {
   "cell_type": "code",
   "execution_count": 61,
   "metadata": {},
   "outputs": [
    {
     "data": {
      "text/plain": [
       "0.02124619405376103"
      ]
     },
     "execution_count": 61,
     "metadata": {},
     "output_type": "execute_result"
    }
   ],
   "source": [
    "np.std(values)"
   ]
  },
  {
   "cell_type": "markdown",
   "metadata": {},
   "source": [
    "#### 3. Variance"
   ]
  },
  {
   "cell_type": "code",
   "execution_count": 64,
   "metadata": {},
   "outputs": [
    {
     "name": "stdout",
     "output_type": "stream",
     "text": [
      "The average value for the first player, Paul, is: 0.63\n",
      "The standard deviation for the value fro the first player, Paul, is: 0.02\n"
     ]
    }
   ],
   "source": [
    "ns = [15]*100\n",
    "trees15 = [make_tree(n) for n in ns]\n",
    "for tree in trees15:\n",
    "    DFS_visit(tree[0][0])\n",
    "\n",
    "values = [tree[0][0].value for tree in trees15]\n",
    "print('The average value for the first player, Paul, is: %.2f'%np.mean(values))\n",
    "print('The standard deviation for the value fro the first player, Paul, is: %.2f'%np.std(values))"
   ]
  },
  {
   "cell_type": "markdown",
   "metadata": {},
   "source": [
    "#### 4. Plot distribution"
   ]
  },
  {
   "cell_type": "code",
   "execution_count": 110,
   "metadata": {
    "scrolled": true
   },
   "outputs": [
    {
     "data": {
      "image/png": "[encoded data removed]",
      "text/plain": [
       "<matplotlib.figure.Figure at 0x517973160>"
      ]
     },
     "metadata": {},
     "output_type": "display_data"
    }
   ],
   "source": [
    "import matplotlib.pyplot as plt\n",
    "n, bins, patches = plt.hist(values, bins=9)\n",
    "#means = [np.mean([edge, bins[i+1]]) for i, edge in enumerate(bins[:-1])]\n",
    "#plt.plot(means, n, color='skyblue')\n",
    "plt.show()"
   ]
  },
  {
   "cell_type": "markdown",
   "metadata": {
    "collapsed": true
   },
   "source": [
    "#### 5. $$\\lim_{n\\rightarrow \\infty}Value[s]$$"
   ]
  },
  {
   "cell_type": "code",
   "execution_count": null,
   "metadata": {
    "collapsed": true
   },
   "outputs": [],
   "source": [
    "## Caution: this takes long unless you add alpha-beta pruning!\n",
    "### It likely kills the kernel\n",
    "large_tree = make_tree(40)\n",
    "time0 = time.time()\n",
    "DFS_visit(large_tree[0][0])\n",
    "time1 = time.time()\n",
    "print(\"Large tree value computation took %.3f seconds.\"(time1 - time0))"
   ]
  },
  {
   "cell_type": "code",
   "execution_count": null,
   "metadata": {
    "collapsed": true
   },
   "outputs": [],
   "source": []
  }
 ],
 "metadata": {
  "kernelspec": {
   "display_name": "Python 3",
   "language": "python",
   "name": "python3"
  },
  "language_info": {
   "codemirror_mode": {
    "name": "ipython",
    "version": 3
   },
   "file_extension": ".py",
   "mimetype": "text/x-python",
   "name": "python",
   "nbconvert_exporter": "python",
   "pygments_lexer": "ipython3",
   "version": "3.6.1"
  }
 },
 "nbformat": 4,
 "nbformat_minor": 2
}
