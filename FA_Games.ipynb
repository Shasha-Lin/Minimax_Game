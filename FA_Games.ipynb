{
 "cells": [
  {
   "cell_type": "code",
   "execution_count": 2,
   "metadata": {
    "collapsed": true
   },
   "outputs": [],
   "source": [
    "class node:\n",
    "    def __init__(self, value=None, left=None, right=None, parent=None):\n",
    "        self.value=value\n",
    "        self.left = left\n",
    "        self.right = right\n",
    "        self.parent = parent\n",
    "        \n",
    "def make_children(source):\n",
    "    left = node(parent=source)\n",
    "    right = node(parent=source)\n",
    "    source.left = left\n",
    "    source.right = right\n",
    "    return left, right\n",
    "\n",
    "def make_tree(n, leaf_values=None):\n",
    "    if not leaf_values:\n",
    "        leaf_values = [None]*pow(2,n)\n",
    "    source = node()\n",
    "    tree = [[] for  i in range(n+1)] #i is height\n",
    "    tree[0].append(source)\n",
    "    for i in range(n):\n",
    "        for j in range(pow(2, i)):\n",
    "            tree[i+1]+=make_children(tree[i][j])\n",
    "            \n",
    "    for j in range(pow(2, n)):\n",
    "        tree[n][j].value = leaf_values[j]\n",
    "    return tree\n",
    "\n"
   ]
  },
  {
   "cell_type": "code",
   "execution_count": 8,
   "metadata": {},
   "outputs": [],
   "source": [
    "tree4 = make_tree(4)\n",
    "import numpy as np\n",
    "for v in tree4[-1]:\n",
    "    v.value=np.random.random()\n",
    "    \n",
    "def DFS_visit(node, move=1):\n",
    "    \n",
    "    if not node.value:\n",
    "        DFS_visit(node.left)\n",
    "        DFS_visit(node.right)\n",
    "        if node.left.value:\n",
    "            if node.right.value:\n",
    "                if move==1:\n",
    "                    node.value = max(node.left.value, node.right.value)\n",
    "                else:\n",
    "                    node.value = min(node.left.value, node.right.value)\n",
    "    \n",
    "DFS_visit(tree4[0][0])      "
   ]
  },
  {
   "cell_type": "code",
   "execution_count": 10,
   "metadata": {},
   "outputs": [
    {
     "data": {
      "text/plain": [
       "0.9766307658191405"
      ]
     },
     "execution_count": 10,
     "metadata": {},
     "output_type": "execute_result"
    }
   ],
   "source": [
    "tree4[0][0].value"
   ]
  },
  {
   "cell_type": "code",
   "execution_count": null,
   "metadata": {
    "collapsed": true
   },
   "outputs": [],
   "source": []
  }
 ],
 "metadata": {
  "kernelspec": {
   "display_name": "Python 3",
   "language": "python",
   "name": "python3"
  },
  "language_info": {
   "codemirror_mode": {
    "name": "ipython",
    "version": 3
   },
   "file_extension": ".py",
   "mimetype": "text/x-python",
   "name": "python",
   "nbconvert_exporter": "python",
   "pygments_lexer": "ipython3",
   "version": "3.6.1"
  }
 },
 "nbformat": 4,
 "nbformat_minor": 2
}
