{
 "cells": [
  {
   "cell_type": "code",
   "execution_count": 1,
   "metadata": {
    "collapsed": true
   },
   "outputs": [],
   "source": [
    "import numpy as np\n",
    "import time\n",
    "from scipy import stats\n",
    "import matplotlib.pyplot as plt\n",
    "% matplotlib inline"
   ]
  },
  {
   "cell_type": "markdown",
   "metadata": {},
   "source": [
    "### Game Graph Class"
   ]
  },
  {
   "cell_type": "code",
   "execution_count": 2,
   "metadata": {
    "collapsed": true
   },
   "outputs": [],
   "source": [
    "class node:\n",
    "    '''A simple node in a binary tree'''\n",
    "    def __init__(self, value=None, left=None, right=None, parent=None):\n",
    "        self.value = value\n",
    "        self.left = left\n",
    "        self.right = right\n",
    "        self.parent = parent\n",
    "        \n",
    "def make_children(source):\n",
    "    '''Creates and returns left and right children for source node'''\n",
    "    left = node(parent=source)\n",
    "    right = node(parent=source)\n",
    "    source.left = left\n",
    "    source.right = right\n",
    "    return left, right\n",
    "\n",
    "def make_tree(n):\n",
    "    '''Builds a tree of depth n'''\n",
    "    source = node()\n",
    "    tree = [[] for i in range(n+1)]  # i is depth\n",
    "    tree[0].append(source)\n",
    "    \n",
    "    # Add children depth-by-depth\n",
    "    for i in range(n):\n",
    "        for j in range(pow(2, i)):\n",
    "            tree[i+1]+=make_children(tree[i][j])\n",
    "    \n",
    "    # Compute random leaf values\n",
    "    for leaf in tree[-1]:\n",
    "        leaf.value = 2*np.random.random()-1\n",
    "#     for j in range(pow(2, n)):\n",
    "#         tree[n][j].value = np.random.random()\n",
    "        \n",
    "    return tree\n",
    "\n",
    "def print_tree(tree):\n",
    "    '''Prints value of all nodes in tree by depth'''\n",
    "    for d, l in enumerate(tree):\n",
    "        vals = [v.value for v in l]\n",
    "        print('Depth {} has {} nodes: {}'.format(d, len(vals), vals))\n",
    "    print('')"
   ]
  },
  {
   "cell_type": "markdown",
   "metadata": {},
   "source": [
    "### Value Calculation"
   ]
  },
  {
   "cell_type": "code",
   "execution_count": 3,
   "metadata": {
    "collapsed": false
   },
   "outputs": [
    {
     "name": "stdout",
     "output_type": "stream",
     "text": [
      "Depth 0 has 1 nodes: [0.03480638992966534]\n",
      "Depth 1 has 2 nodes: [0.03480638992966534, -0.8798455474631539]\n",
      "Depth 2 has 4 nodes: [0.7543114912625863, 0.03480638992966534, -0.8798455474631539, -0.8187867220037663]\n",
      "Depth 3 has 8 nodes: [0.13878630687353377, 0.7543114912625863, 0.03480638992966534, -0.7274386980922611, -0.8798455474631539, -0.8982816076411648, -0.8187867220037663, -0.919504416526441]\n",
      "Depth 4 has 16 nodes: [0.32393925537934143, 0.13878630687353377, 0.7543114912625863, 0.9410712670504009, 0.3349812693427394, 0.03480638992966534, 0.5903510178813189, -0.7274386980922611, 0.7567046585802946, -0.8798455474631539, -0.024154434182661166, -0.8982816076411648, -0.8187867220037663, 0.9841440664156147, 0.5613874646505879, -0.919504416526441]\n",
      "\n",
      "The value to the first player, Paul, is: 0.03480638992966534\n"
     ]
    }
   ],
   "source": [
    "# Example tree:\n",
    "tree4 = make_tree(4)\n",
    "# for v in tree4[-1]:\n",
    "#     v.value=np.random.random()\n",
    "\n",
    "def DFS_visit(node, Paul=True):\n",
    "    '''Computes the value for each node'''\n",
    "    if not node.value:\n",
    "        DFS_visit(node.left, Paul=not Paul)\n",
    "        DFS_visit(node.right, Paul=not Paul)\n",
    "        if node.left.value:\n",
    "            if node.right.value:\n",
    "                if Paul:\n",
    "                    node.value = max(node.left.value, node.right.value)\n",
    "                else:\n",
    "                    node.value = min(node.left.value, node.right.value)             \n",
    "                    \n",
    "# Example calculation:                    \n",
    "DFS_visit(tree4[0][0])\n",
    "print_tree(tree4)\n",
    "print('The value to the first player, Paul, is: {}'.format(tree4[0][0].value))"
   ]
  },
  {
   "cell_type": "markdown",
   "metadata": {},
   "source": [
    "### Simulations\n",
    "#### 1 Advantage to playing last? Test the effect of parity of tree depth."
   ]
  },
  {
   "cell_type": "code",
   "execution_count": 4,
   "metadata": {
    "collapsed": false
   },
   "outputs": [
    {
     "name": "stdout",
     "output_type": "stream",
     "text": [
      "Time to make all even trees: 25.07368516921997 sec\n",
      "Time to compute values for all even trees: 5.799424409866333 sec\n"
     ]
    }
   ],
   "source": [
    "ks = np.random.randint(5, 10, 100)\n",
    "even_numbers = 2*ks\n",
    "plus_or_minus = np.random.choice((1, -1))\n",
    "odd_numbers = even_numbers + plus_or_minus\n",
    "\n",
    "t0 = time.time()\n",
    "even_trees = [make_tree(n) for n in even_numbers]\n",
    "t1 = time.time()\n",
    "print('Time to make all even trees: {} sec'.format(t1 - t0))\n",
    "\n",
    "odd_trees = [make_tree(n) for n in odd_numbers]\n",
    "\n",
    "t0 = time.time()\n",
    "for tree in even_trees:\n",
    "    DFS_visit(tree[0][0])\n",
    "t1 = time.time()\n",
    "print('Time to compute values for all even trees: {} sec'.format(t1 - t0))\n",
    "\n",
    "for tree in odd_trees:\n",
    "    DFS_visit(tree[0][0])    "
   ]
  },
  {
   "cell_type": "code",
   "execution_count": 5,
   "metadata": {
    "collapsed": false
   },
   "outputs": [
    {
     "name": "stdout",
     "output_type": "stream",
     "text": [
      "Mean value to Paul for odd trees: 0.2530123604360265\n",
      "Mean value to Paul for even trees: -0.2305412338015726\n"
     ]
    },
    {
     "data": {
      "text/plain": [
       "Ttest_indResult(statistic=58.88481036679881, pvalue=1.0715094323909765e-122)"
      ]
     },
     "execution_count": 5,
     "metadata": {},
     "output_type": "execute_result"
    }
   ],
   "source": [
    "odd_values = [tree[0][0].value for tree in odd_trees]\n",
    "even_values = [tree[0][0].value for tree in even_trees]\n",
    "print('Mean value to Paul for odd trees: {}\\nMean value to Paul for even trees: {}'.format(np.mean(odd_values), np.mean(even_values)))\n",
    "stats.ttest_ind(odd_values, even_values, equal_var=False)\n",
    "# No advantage to playing last if pvalue > 0.05\n",
    "# Advantage to playing last if pvalue < 0.05"
   ]
  },
  {
   "cell_type": "markdown",
   "metadata": {},
   "source": [
    "#### 2. Advantage to playing first? Run t-test on all results against 0."
   ]
  },
  {
   "cell_type": "code",
   "execution_count": 6,
   "metadata": {
    "collapsed": false
   },
   "outputs": [
    {
     "name": "stdout",
     "output_type": "stream",
     "text": [
      "Mean value to Paul for odd and even trees: 0.011235563317226891\n"
     ]
    },
    {
     "data": {
      "text/plain": [
       "Ttest_1sampResult(statistic=0.63759973075282861, pvalue=0.52446719522623386)"
      ]
     },
     "execution_count": 6,
     "metadata": {},
     "output_type": "execute_result"
    }
   ],
   "source": [
    "values = odd_values + even_values\n",
    "print('Mean value to Paul for odd and even trees: {}'.format(np.mean(values)))\n",
    "stats.ttest_1samp(values, popmean=0)\n",
    "# No advantage to playing first if pvalue > 0.05\n",
    "# Advantage to playing first if pvalue < 0.05"
   ]
  },
  {
   "cell_type": "markdown",
   "metadata": {},
   "source": [
    "#### 3. Variance"
   ]
  },
  {
   "cell_type": "code",
   "execution_count": 7,
   "metadata": {
    "collapsed": false
   },
   "outputs": [
    {
     "name": "stdout",
     "output_type": "stream",
     "text": [
      "The average value for the first player, Paul, is: 0.25\n",
      "The standard deviation for the value for the first player, Paul, is: 0.03\n"
     ]
    }
   ],
   "source": [
    "ns = [15]*100\n",
    "trees15 = [make_tree(n) for n in ns]\n",
    "for tree in trees15:\n",
    "    DFS_visit(tree[0][0])\n",
    "\n",
    "values = [tree[0][0].value for tree in trees15]\n",
    "print('The average value for the first player, Paul, is: %.2f'%np.mean(values))\n",
    "print('The standard deviation for the value for the first player, Paul, is: %.2f'%np.std(values))"
   ]
  },
  {
   "cell_type": "markdown",
   "metadata": {},
   "source": [
    "#### 4. Plot distribution of results"
   ]
  },
  {
   "cell_type": "code",
   "execution_count": 8,
   "metadata": {
    "collapsed": false,
    "scrolled": true
   },
   "outputs": [
    {
     "data": {
      "image/png": "[encoded data removed]",
      "text/plain": [
       "<matplotlib.figure.Figure at 0x24508a2ec50>"
      ]
     },
     "metadata": {},
     "output_type": "display_data"
    }
   ],
   "source": [
    "n, bins, patches = plt.hist(values, bins=9)\n",
    "#means = [np.mean([edge, bins[i+1]]) for i, edge in enumerate(bins[:-1])]\n",
    "#plt.plot(means, n, color='skyblue')\n",
    "plt.xlabel('Value to the first player, Paul')\n",
    "plt.ylabel('Frequency')\n",
    "plt.show()"
   ]
  },
  {
   "cell_type": "markdown",
   "metadata": {
    "collapsed": true
   },
   "source": [
    "#### 5. Determine $\\lim_{n\\rightarrow \\infty}Value[s]$"
   ]
  },
  {
   "cell_type": "code",
   "execution_count": 9,
   "metadata": {
    "collapsed": false
   },
   "outputs": [],
   "source": [
    "# ## Caution: this takes long unless you add alpha-beta pruning!\n",
    "# ### It likely kills the kernel\n",
    "# large_tree = make_tree(40)\n",
    "# time0 = time.time()\n",
    "# DFS_visit(large_tree[0][0])\n",
    "# time1 = time.time()\n",
    "# print(\"Large tree value computation took %.3f seconds.\"(time1 - time0))"
   ]
  }
 ],
 "metadata": {
  "anaconda-cloud": {},
  "kernelspec": {
   "display_name": "Python [py35]",
   "language": "python",
   "name": "Python [py35]"
  },
  "language_info": {
   "codemirror_mode": {
    "name": "ipython",
    "version": 3
   },
   "file_extension": ".py",
   "mimetype": "text/x-python",
   "name": "python",
   "nbconvert_exporter": "python",
   "pygments_lexer": "ipython3",
   "version": "3.5.2"
  }
 },
 "nbformat": 4,
 "nbformat_minor": 2
}
