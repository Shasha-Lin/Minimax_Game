{
 "cells": [
  {
   "cell_type": "markdown",
   "metadata": {},
   "source": [
    "## <span style=\"color:purple\"> Games Analysis (Fundamental Algorithms Project) </span>\n",
    "\n",
    "**Authors: Julie Helmers and Shasha Lin**\n",
    "\n",
    "Due April 30, 2018"
   ]
  },
  {
   "cell_type": "markdown",
   "metadata": {},
   "source": [
    "### <span style=\"color:green\"> Idea of the game: </span>\n",
    "The game in question is a classic zero-sum, minimax game. Paul is the maximizing agent and always has the first move; Carole is the minimizing agent. Both agents try to get the optimal value while anticipating the other agent's next move to optimize in the opposite direction.\n",
    "\n",
    "### <span style=\"color:green\"> Implementation: </span>\n",
    "The game is implemented through a simple tree class, with each node having a left and right method, indicating the selection of 0 or 1 for the move to go to the next level. All nodes have a value attribute, which is the value of the game to Paul at that point, assuming both the maximizing and minimizing agents play rationally. Values are computed through a modified DFS_visit algorithm. (We implemented both a vanilla version and a sped-up version with alpha-beta pruning.)\n",
    "\n",
    "**Note**: We implemented the tree class as a list of lists — each level of the tree is a list of nodes. We later realized that this is a painfully slow implementation, and we wish that we had implemented the tree with a dictionary instead. (See section 7 for more discussion of this issue.) \n",
    "\n",
    "### <span style=\"color:green\"> Vanilla DFS_visit versus DFS_visit_fast through <i>alpha-beta pruning</i></span>:\n",
    "1. DFS_visit naively visits the left and right children of each node, while alternating whether it is Paul's or Carole's turn to move (with a boolean Paul flag). DFS_visit only computes the value of a node if both values at its left and right child nodes have already been computed. If it is Paul's move, the node value is the maximum of its children's values; if Carole's, the minimum.\n",
    "2. DFS_visit_fast uses <i>alpha-beta pruning</i> to avoid inspecting some paths in the search, therefore saving running time. During the algorithm, we keep track of two additional variables, alpha and beta. When we are inspecting a particular node on Paul's turn, the alpha value is the lower bound for the value Paul can get by taking a path that includes the current node, while the beta value is the upper bound for the value Carole can get by taking a path that includes the node's sibling instead. If alpha is bigger than beta, we know that on the previous level in the tree, Carole will move to the sibling node rather than the current node, and therefore we can stop running DFS_visit at this current node, as it will never be visited in the game. Symmetric logic applies when it's Carole's move."
   ]
  },
  {
   "cell_type": "markdown",
   "metadata": {},
   "source": [
    "### I. Build Tree Class"
   ]
  },
  {
   "cell_type": "markdown",
   "metadata": {},
   "source": [
    "#### Setup"
   ]
  },
  {
   "cell_type": "code",
   "execution_count": 1,
   "metadata": {
    "collapsed": true
   },
   "outputs": [],
   "source": [
    "from __future__ import division\n",
    "import numpy as np\n",
    "import time\n",
    "import math\n",
    "import sys\n",
    "from scipy import stats\n",
    "import matplotlib.pyplot as plt\n",
    "% matplotlib inline\n",
    "\n",
    "# Correctly represent infinity depending on python version\n",
    "if sys.version_info[0] >= 3:\n",
    "    inf = math.inf\n",
    "else:\n",
    "    inf = float(\"inf\")"
   ]
  },
  {
   "cell_type": "markdown",
   "metadata": {},
   "source": [
    "#### Game Graph Class"
   ]
  },
  {
   "cell_type": "code",
   "execution_count": 2,
   "metadata": {
    "collapsed": true
   },
   "outputs": [],
   "source": [
    "# Node class\n",
    "class node:\n",
    "    '''A simple node in a binary tree'''\n",
    "    def __init__(self, value=None, left=None, right=None, parent=None):\n",
    "        self.value = value\n",
    "        self.left = left\n",
    "        self.right = right\n",
    "        self.parent = parent\n",
    "\n",
    "# Naive implementation        \n",
    "def make_children(source):\n",
    "    '''Creates and returns left and right children for source node'''\n",
    "    left = node(parent=source)\n",
    "    right = node(parent=source)\n",
    "    source.left = left\n",
    "    source.right = right\n",
    "    return left, right\n",
    "\n",
    "def make_tree(n):\n",
    "    '''Builds a tree of depth n'''\n",
    "    source = node()\n",
    "    tree = [[] for i in range(n+1)]  # i is depth\n",
    "    tree[0].append(source)\n",
    "    # Add children depth-by-depth\n",
    "    for i in range(n):\n",
    "        for j in range(pow(2, i)):\n",
    "            tree[i+1]+=make_children(tree[i][j])\n",
    "    # Compute random leaf values\n",
    "    for leaf in tree[-1]:\n",
    "        leaf.value = 2*np.random.random()-1\n",
    "    return tree\n",
    "    \n",
    "# Utility functions\n",
    "def print_tree(tree):\n",
    "    '''Prints value of all nodes in tree by depth'''\n",
    "    for depth, level in enumerate(tree):\n",
    "        vals = [v.value for v in level]\n",
    "        print('Depth {} has {} nodes: {}'.format(depth, len(vals), vals))\n",
    "    print('')\n",
    "\n",
    "def get_value(tree):    \n",
    "    '''Returns value of root node'''\n",
    "    return tree[0][0].value\n",
    "    \n",
    "def print_value(tree):\n",
    "    '''Prints value of root node'''\n",
    "    print('The value to the first player, Paul, is: {}'.format(get_value(tree)))"
   ]
  },
  {
   "cell_type": "markdown",
   "metadata": {},
   "source": [
    "#### DFS_visit for value calculation"
   ]
  },
  {
   "cell_type": "code",
   "execution_count": 3,
   "metadata": {
    "collapsed": true
   },
   "outputs": [],
   "source": [
    "def DFS_visit(tree, depth=0, key=0, Paul=True):\n",
    "    '''Computes the value for each node'''\n",
    "    current_node = tree[depth][key]\n",
    "    if not current_node.value:\n",
    "        DFS_visit(tree, depth+1, 2*key, Paul=not Paul)  # Left\n",
    "        DFS_visit(tree, depth+1, 2*key+1, Paul=not Paul)  # Right\n",
    "        \n",
    "        left_child = tree[depth+1][2*key]\n",
    "        right_child = tree[depth+1][2*key+1]\n",
    "        \n",
    "        if left_child.value:\n",
    "            if right_child.value:\n",
    "                if Paul:  # Maximizing player\n",
    "                    current_node.value = max(left_child.value, right_child.value)\n",
    "                else:  # Minimizing player\n",
    "                    current_node.value = min(left_child.value, right_child.value)   \n",
    "\n",
    "def DFS_visit_fast(tree, depth=0, key=0, alpha=-inf, beta=inf, Paul=True):\n",
    "    '''Computes the values for nodes with alpha-beta pruning to limit search'''\n",
    "    current_node = tree[depth][key]\n",
    "    if not current_node.value:\n",
    "        left_child = tree[depth+1][2*key]\n",
    "        right_child = tree[depth+1][2*key+1]\n",
    "\n",
    "        if Paul:  # Maximizing player\n",
    "            v = -inf\n",
    "            \n",
    "            # Left\n",
    "            DFS_visit_fast(tree, depth+1, 2*key, alpha, beta, Paul=not Paul)\n",
    "            v = max(v, left_child.value)\n",
    "            alpha = max(alpha, v)\n",
    "            \n",
    "            # Right\n",
    "            if beta > alpha:\n",
    "                DFS_visit_fast(tree, depth+1, 2*key+1, alpha, beta, Paul=not Paul)\n",
    "                v = max(v, right_child.value)\n",
    "                alpha = max(alpha, v)\n",
    "            \n",
    "        else:  # Minimizing player\n",
    "            v = inf\n",
    "            \n",
    "            # Left\n",
    "            DFS_visit_fast(tree, depth+1, 2*key, alpha, beta, Paul=not Paul)\n",
    "            v = min(v, left_child.value)\n",
    "            beta = min(beta, v)\n",
    "            \n",
    "            # Right\n",
    "            if beta > alpha:\n",
    "                DFS_visit_fast(tree, depth+1, 2*key+1, alpha, beta, Paul=not Paul)\n",
    "                v = min(v, right_child.value)\n",
    "                beta = min(beta, v)\n",
    "\n",
    "        current_node.value = v"
   ]
  },
  {
   "cell_type": "markdown",
   "metadata": {},
   "source": [
    "#### Example\n",
    "We first test our implementation of the game on a tree of depth 20. We use vanilla DFS_visit and DFS_visit_fast (the alpha-beta pruning version) to compute the value for Paul, checking that the values are indeed the same and that we are actually saving time with DFS_visit_fast."
   ]
  },
  {
   "cell_type": "code",
   "execution_count": 4,
   "metadata": {
    "scrolled": false
   },
   "outputs": [
    {
     "name": "stdout",
     "output_type": "stream",
     "text": [
      "Time to compute values for tree of depth 20 without alpha-beta pruning: 1.43 sec\n",
      "The value at root node computed using vanilla DFS_visit is: -0.24      \n",
      "\n",
      "Time to compute values for tree of depth 20 with alpha-beta pruning: 0.16 sec, it only took 11.27% of the time for vanilla version\n",
      "The value at root node computed using DFS_visit with alpha-beta pruning is: -0.24\n"
     ]
    }
   ],
   "source": [
    "# Example tree:\n",
    "n = 20\n",
    "example = make_tree(n)\n",
    "\n",
    "\n",
    "t0 = time.time()\n",
    "example = make_tree(n)\n",
    "leaves = example[-1]\n",
    "t1 = time.time()\n",
    "\n",
    "# Example calculation with vanilla DFS_visit:                 \n",
    "t0 = time.time()\n",
    "DFS_visit(example)\n",
    "t1 = time.time()\n",
    "print('Time to compute values for tree of depth %d without \\\n",
    "alpha-beta pruning: %.2f sec'%(n, t1 - t0))\n",
    "print('The value at root node computed using vanilla DFS_visit is: %.2f\\\n",
    "      \\n'%get_value(example))\n",
    "\n",
    "\n",
    "# Example calculation with alpha-beta DFS_visit, checking that value at\n",
    "# root node is the same:    \n",
    "example = make_tree(n)\n",
    "example[-1] = leaves  \n",
    "t3 = time.time()\n",
    "DFS_visit_fast(example)\n",
    "t4 = time.time()\n",
    "print('Time to compute values for tree of depth %d with \\\n",
    "alpha-beta pruning: %.2f sec, it only took %.2f%% of the time \\\n",
    "for vanilla version'%(n, t4 - t3, 100*(t4 - t3)/(t1-t0)))\n",
    "print('The value at root node computed using DFS_visit with \\\n",
    "alpha-beta pruning is: %.2f'%get_value(example))"
   ]
  },
  {
   "cell_type": "markdown",
   "metadata": {},
   "source": [
    "### II. Data Scientist Hat is On: \n",
    "### Simulations"
   ]
  },
  {
   "cell_type": "markdown",
   "metadata": {},
   "source": [
    "#### 1. Is there an advantage to playing last? Test the effect of parity of tree depth.\n",
    "\n",
    "We build 100 trees of even number depth, with depth uniformly distributed in {10, 12, 14, 16, 18}. To make the comparison a level playing field, we randomly add either +1 or -1 to these even numbers to create 100 trees of odd number depths in {9, 11, 13, 15, 17, 19}. We use DFS_visit_fast to compute the value of the game for each tree, and do a two-sample t-test on the 100 values from the odd depth trees and even depth trees. As can be seen below, the p-value from this t-test is well below 1e-3, which gives us plenty of confidence to reject the null hypothesis that the parity of tree depth does not influence game results. We found the average value for 100 odd depth trees to be 0.25 (Paul wins), whereas the value for 100 even depth trees was -0.23 (Carole wins): We conclude that the **last person** to play is much more likely to **win** this game (which is befitting the player who is named CAROLE after ORACLE). "
   ]
  },
  {
   "cell_type": "code",
   "execution_count": 5,
   "metadata": {},
   "outputs": [
    {
     "name": "stdout",
     "output_type": "stream",
     "text": [
      "Mean value to Paul for odd trees: 0.24622146563976577\n",
      "Mean value to Paul for even trees: -0.2264064881952218\n"
     ]
    },
    {
     "data": {
      "text/plain": [
       "Ttest_indResult(statistic=63.999362721286055, pvalue=1.2313746223433823e-132)"
      ]
     },
     "execution_count": 5,
     "metadata": {},
     "output_type": "execute_result"
    }
   ],
   "source": [
    "# Create the lists of even and odd depths to use\n",
    "ks = np.random.randint(5, 10, 100)\n",
    "even_numbers = 2*ks\n",
    "plus_or_minus = np.random.choice((1, -1), 100)\n",
    "odd_numbers = even_numbers + plus_or_minus\n",
    "\n",
    "# Build the trees\n",
    "even_trees = [make_tree(n) for n in even_numbers]\n",
    "odd_trees = [make_tree(n) for n in odd_numbers]\n",
    "\n",
    "# Compute values for the trees\n",
    "for tree in even_trees + odd_trees:\n",
    "    DFS_visit_fast(tree)\n",
    "    \n",
    "odd_values = [get_value(tree) for tree in odd_trees]\n",
    "even_values = [get_value(tree) for tree in even_trees]\n",
    "print('Mean value to Paul for odd trees: {}\\nMean value to Paul for even trees: {}'.format(np.mean(odd_values), np.mean(even_values)))\n",
    "stats.ttest_ind(odd_values, even_values, equal_var=False)"
   ]
  },
  {
   "cell_type": "markdown",
   "metadata": {},
   "source": [
    "#### 2. Is there an advantage to playing first? Test the difference from zero. \n",
    "\n",
    "For this question, we simply pull together the values from all the odd depth trees and even depth trees from the previous question (a total of 200 trees with depth between 9 and 19), and compare their average value with zero. We found the mean to be 0.01, which generates an insignificant p-value (0.56). We cannot reject the null hypothesis, and therefore conclude that there is **no evidence** of an advantage to playing first. "
   ]
  },
  {
   "cell_type": "code",
   "execution_count": 6,
   "metadata": {},
   "outputs": [
    {
     "name": "stdout",
     "output_type": "stream",
     "text": [
      "Mean value to Paul for odd and even trees: 0.009907488722272007\n"
     ]
    },
    {
     "data": {
      "text/plain": [
       "Ttest_1sampResult(statistic=0.57762964033360942, pvalue=0.56416717508374292)"
      ]
     },
     "execution_count": 6,
     "metadata": {},
     "output_type": "execute_result"
    }
   ],
   "source": [
    "values = odd_values + even_values\n",
    "print('Mean value to Paul for odd and even trees: {}'.format(np.mean(values)))\n",
    "stats.ttest_1samp(values, popmean=0)"
   ]
  },
  {
   "cell_type": "markdown",
   "metadata": {},
   "source": [
    "#### 3 & 4: Is there much variance in the results? Is there a distribution to the results?\n",
    "\n",
    "We take n = {13, 14, 15, 16} and make 100 randomly initialized trees for each. (Since the distribution is probably different for odd and even trees, we decided to run experiments separately for odd and even depths.) The variances are printed below — we conclude that for a reasonably large n, the variance is small, in the sense that zero is more than 5 standard deviations away from the mean — Paul wins odd depth games with very high probability, and Carole wins even depth games with high probability (in fact, in our simulation, the frequency is 100%). "
   ]
  },
  {
   "cell_type": "code",
   "execution_count": 3,
   "metadata": {
    "collapsed": true
   },
   "outputs": [],
   "source": [
    "def get_moments(n):\n",
    "    ns = [n]*100\n",
    "    trees = [make_tree(n) for n in ns]\n",
    "    for tree in trees:\n",
    "        DFS_visit_fast(tree)\n",
    "    values = [get_value(tree) for tree in trees]\n",
    "    mean = np.mean(values)\n",
    "    var = pow(np.std(values), 2)\n",
    "    print('With depth of %d, the average value for Paul is: %.2f, \\\n",
    "    the variance is: %.5f' % (n, mean, var))\n",
    "    return values, mean, var"
   ]
  },
  {
   "cell_type": "code",
   "execution_count": 5,
   "metadata": {},
   "outputs": [
    {
     "name": "stdout",
     "output_type": "stream",
     "text": [
      "With depth of 13, the average value for Paul is: 0.26,     the variance is: 0.00254\n",
      "With depth of 14, the average value for Paul is: -0.23,     the variance is: 0.00179\n",
      "With depth of 15, the average value for Paul is: 0.25,     the variance is: 0.00104\n",
      "With depth of 16, the average value for Paul is: -0.23,     the variance is: 0.00088\n"
     ]
    }
   ],
   "source": [
    "values13, mean13, var13 = get_moments(13)\n",
    "values14, mean14, var14 = get_moments(14)\n",
    "values15, mean15, var15 = get_moments(15)\n",
    "values16, mean16, var16 = get_moments(16)"
   ]
  },
  {
   "cell_type": "markdown",
   "metadata": {},
   "source": [
    "We use a histogram to investigate the distribution of the results. For the n's we experimented on (from 13 to 16), the distribution is negatively skewed for even n's, and positively skewed for odd ones. "
   ]
  },
  {
   "cell_type": "code",
   "execution_count": 8,
   "metadata": {},
   "outputs": [
    {
     "data": {
      "image/png": "[encoded data removed]",
      "text/plain": [
       "<matplotlib.figure.Figure at 0x111c85390>"
      ]
     },
     "metadata": {},
     "output_type": "display_data"
    },
    {
     "data": {
      "image/png": "[encoded data removed]",
      "text/plain": [
       "<matplotlib.figure.Figure at 0x111c859e8>"
      ]
     },
     "metadata": {},
     "output_type": "display_data"
    },
    {
     "data": {
      "image/png": "[encoded data removed]",
      "text/plain": [
       "<matplotlib.figure.Figure at 0x2c09ffdd8>"
      ]
     },
     "metadata": {},
     "output_type": "display_data"
    },
    {
     "data": {
      "image/png": "[encoded data removed]",
      "text/plain": [
       "<matplotlib.figure.Figure at 0x2c09ff7b8>"
      ]
     },
     "metadata": {},
     "output_type": "display_data"
    }
   ],
   "source": [
    "def empirical_distribution(depth, values):\n",
    "    n, bins, patches = plt.hist(values, bins=10)\n",
    "    plt.xlabel('Value to the first player, Paul')\n",
    "    plt.ylabel('Frequency')\n",
    "    plt.title('Depth of %d' % depth)\n",
    "    plt.show()\n",
    "\n",
    "empirical_distribution(13, values13)        \n",
    "empirical_distribution(14, values14)    \n",
    "empirical_distribution(15, values15)\n",
    "empirical_distribution(16, values16)"
   ]
  },
  {
   "cell_type": "markdown",
   "metadata": {},
   "source": [
    "Theoretically, there is a closed form probability density function to this distribution: We know that the minimum of two values generated i.i.d from [0, 1) follows a $Beta(1, 2)$ distribution, and the maximum follows $Beta(2, 1)$. Initializing the values at x ~ $Uniform([-1, 1))$ means y=$\\frac{x+1}{2}$ ~ $Beta$ distribution. By substituting y with $\\frac{x+1}{2}$ in the cdf of $Beta(2, 1)$, we get $F(y)  = I_x(2, 1) = y^2$. We can get the cdf of the values at n-1 depth for odd n's: $F(x) = \\frac{(x+1)^2}{4}$. The derivative of $F(x)$ is $\\frac{x+1}{2}$, which is the pdf of values at a depth of n-1.\n",
    "\n",
    "At a depth of n-2, we can get the pdf and cdf of the values from order statistics: The minimum element from 2 i.i.d. samples drawn from distribution with pdf $f(x)$ and cdf $F(x)$ follows the distribution with pdf $f'(x) = 2f(x)(1-F(x))$, and cdf $F'(x) = 1 - (1-F(x))^2$. At a depth of n-3, we then use the formula for the pdf and cdf of the maximum element drawn from i.i.d. samples with pdf $f'(x)$, $F'(x)$: $f''(x) = 2f'(x)F'(x)$, $F''(x) = F'(x)^2$... And so on.\n",
    "\n",
    "For even n's , we can do similar calculations for each level, from the bottom up. \n",
    "\n",
    "The pdf and cdf get more and more intricate with more levels, so we weren't able to write out the distribution for large n. However, we can test that this iterative method gets the correct pdf for the distribution, using depth 3 as an example. We plot the distribution of 10000 simulations together with the distribution obtained through the method above. As can be seen below, the pdf calculated with the above method fit well with the normalized frequencies from simulations."
   ]
  },
  {
   "cell_type": "code",
   "execution_count": 65,
   "metadata": {},
   "outputs": [
    {
     "name": "stdout",
     "output_type": "stream",
     "text": [
      "With depth of 3, the average value for Paul is: 0.32,     the variance is: 0.12277\n"
     ]
    },
    {
     "data": {
      "image/png": "[encoded data removed]",
      "text/plain": [
       "<Figure size 432x288 with 1 Axes>"
      ]
     },
     "metadata": {},
     "output_type": "display_data"
    }
   ],
   "source": [
    "def get_moments(n):\n",
    "    ns = [n]*10000\n",
    "    trees = [make_tree(n) for n in ns]\n",
    "    for tree in trees:\n",
    "        DFS_visit_fast(tree)\n",
    "    values = [get_value(tree) for tree in trees]\n",
    "    mean = np.mean(values)\n",
    "    var = pow(np.std(values), 2)\n",
    "    print('With depth of %d, the average value for Paul is: %.2f, \\\n",
    "    the variance is: %.5f' % (n, mean, var))\n",
    "    return values, mean, var\n",
    "\n",
    "##calculate density##\n",
    "from scipy.stats import beta\n",
    "x = np.linspace(-1, 1, 100)\n",
    "y = (x+1)/2\n",
    "#depth 3-1, maximize of i.i.d distributed values\n",
    "depth2_cumulative_density = pow(y,2) #cdf for beta(2, 1) is F(x) = x^2\n",
    "depth2density = (x+1)/2#derivate of depth2_cumulative_density w.r.t. x\n",
    "#depth 3-2, minimize of i.i.d distributed values\n",
    "depth3density = 2*depth2density*(1-depth2_cumulative_density)\n",
    "from functools import partial\n",
    "depth3_cumlative_density = 1 - np.array(list((map(lambda x: pow(x, 2), (1-depth2_cumulative_density)))))\n",
    "#depth 3-3, maximize of i.i.d distributed values\n",
    "root_density = 2*depth3density*depth3_cumlative_density\n",
    "\n",
    "##simulations##\n",
    "value3, mean3, var3 = get_moments(3)\n",
    "\n",
    "##plotting##\n",
    "fig,ax = plt.subplots(1)\n",
    "ax.plot(x, root_density, label = 'theoretical pdf', color='green')\n",
    "n, bins, patches = plt.hist(value3, density=True, label='Frequency from simulations', bins=50)\n",
    "ax.legend(loc='upper left')\n",
    "ax.set_xlabel('value of game at root')\n",
    "ax.set_ylabel('density')\n",
    "ax.set_title('Fit between pdf and frequency plot')\n",
    "plt.show()"
   ]
  },
  {
   "cell_type": "markdown",
   "metadata": {
    "collapsed": true
   },
   "source": [
    "#### 5. What does the limiting behavior as n → ∞ appear to be?\n",
    "\n",
    "To look at the asymptotics, we build a large tree (depth n = 25 or 26, the largest depths permitted by limited time and computing power for this project). We then plot the average of the values at even layers of the tree. When layer i = 2, 4, 6, ..., it's always Paul's move, therefore the value at such a level can be treated as the value of the game to Paul for a tree of depth n-i. We create one plot for n=25 to analyze the asymptotic value for $n\\longrightarrow \\infty$ when n is odd, and another plot for n=26 to analyze the asymptotic value for $n\\longrightarrow \\infty$ when n is even. From the plots, we can see that for even trees, the value converges to -0.23 as n grows large; for odd trees, the value converges to 0.24 as n grows large.  "
   ]
  },
  {
   "cell_type": "code",
   "execution_count": null,
   "metadata": {
    "scrolled": true
   },
   "outputs": [
    {
     "data": {
      "image/png": "[encoded data removed]",
      "text/plain": [
       "<matplotlib.figure.Figure at 0x843ae59b0>"
      ]
     },
     "metadata": {},
     "output_type": "display_data"
    },
    {
     "data": {
      "image/png": "[encoded data removed]",
      "text/plain": [
       "<matplotlib.figure.Figure at 0x571ed4d30>"
      ]
     },
     "metadata": {},
     "output_type": "display_data"
    }
   ],
   "source": [
    "def plot_asymptotics(depth):\n",
    "    large_tree = make_tree(depth)\n",
    "    DFS_visit(large_tree)\n",
    "    average_values = []\n",
    "    if not depth%2:\n",
    "        deepest = depth -1\n",
    "    else:\n",
    "        deepest = depth\n",
    "    for i in range(0, deepest, 2):\n",
    "        values = [large_tree[i][j].value for j in range(pow(2, i))]\n",
    "        average_values.append(np.mean(values))\n",
    "    \n",
    "    fig,ax = plt.subplots(1)\n",
    "    plt.plot(list(range(deepest, 0, -2)), average_values)\n",
    "    ax.set_title('asymptotics for %s trees'%('odd' if depth%2 else 'even'))\n",
    "    ax.set_xlabel('depth')\n",
    "    ax.set_ylabel('game value')\n",
    "    if not depth%2:\n",
    "        ax.set_ylim(-.25, -.05)\n",
    "    else:\n",
    "        ax.set_ylim(.22, .34)\n",
    "    plt.show()\n",
    "        \n",
    "plot_asymptotics(26)        \n",
    "plot_asymptotics(25)                  "
   ]
  },
  {
   "cell_type": "markdown",
   "metadata": {},
   "source": [
    "#### 6.  Alpha-beta pruning time analysis\n",
    "We want to see how much time, on average, alpha-beta pruning saves us, as compared to the vanilla DFS_visit algorithm. We record the time taken to calculate trees of depth from 1 up to 22 for vanilla DFS_visit and DFS_visit_fast, and plot them. Theoretically, DFS_visit runs in $O(2^n)$, where n is the number of moves in the game, whereas alpha-beta pruning runs in $O(2^{n/2})$. In our implementation, the speed-up is not quite $O(2^{n/2})$ — we discuss the reason in the next section. "
   ]
  },
  {
   "cell_type": "code",
   "execution_count": 4,
   "metadata": {},
   "outputs": [
    {
     "data": {
      "image/png": "[encoded data removed]",
      "text/plain": [
       "<Figure size 432x288 with 1 Axes>"
      ]
     },
     "metadata": {},
     "output_type": "display_data"
    }
   ],
   "source": [
    "def get_time(depth,alg):\n",
    "    times = []\n",
    "    for i in range(1, depth+1):\n",
    "        tree = make_tree(i)\n",
    "        time0 = time.time()\n",
    "        alg(tree)\n",
    "        time1 = time.time()\n",
    "        times.append(time1 - time0)\n",
    "    return times\n",
    "\n",
    "depth = 22\n",
    "DFS_times = get_time(depth, DFS_visit)\n",
    "alpha_beta_times = get_time(depth, DFS_visit_fast)\n",
    "fig, ax = plt.subplots(1)\n",
    "ax.plot(list(range(1, depth+1)), DFS_times, label='regular DFS')\n",
    "ax.plot(list(range(1, depth+1)), alpha_beta_times, label='alpha-beta pruning')\n",
    "ax.set_xlabel('depth')\n",
    "ax.set_ylabel('time')\n",
    "ax.set_title('DFS vs alpha-beta pruning')\n",
    "plt.show()"
   ]
  },
  {
   "cell_type": "markdown",
   "metadata": {},
   "source": [
    "#### 7.  <span style=\"color:blue\"> Reflections on our implementation — man oh man do we wish we'd thought for a second longer before coding! </span>\n",
    "Theoretically, alpha-beta speed up changes the run time from $O(2^n)$ to $O(2^{n/2})$ in the best case scenario, and close to $O(2^{n/2})$ in the average case: DFS_visit_fast for a tree of depth 20 should take about the same time as vanilla DFS_visit for a tree of depth 10. However, from the above graph we can see that we are not saving as much time — our vanilla DFS_visit runs for about depth 16 in the same time as DFS_visit_fast for depth 20. We also noticed how slow the tree building generally is, and the Jupyter notebook python kernel cannot survive any depth bigger than 27 with our implementation of the tree class. We reviewed the assignment and noticed the hint of using binary code as the key for positions in the tree, instead of having an actual node class and tree class implemented with python lists. In our implementation, a tree is a list of lists, with each level in the tree being a list of node objects. When we run make_tree and DFS_visit or DFS_visit_fast, the majority of the time is spent expanding/searching the list and accessing the list elements, which takes time $O(n)$, where n is the length of the list. Had we implemented the tree as a dictionary instead, where the keys were binary strings indicating the position in the tree, and the values were the values for Paul at that position, we would have had $O(1)$ lookups. In this way, most of the time in a call to DFS_visit or DFS_visit_fast would be spent on static evaluations at the leaf level, instead of searching lists, and we would see performance comparisons closer to the theoretical level."
   ]
  }
 ],
 "metadata": {
  "anaconda-cloud": {},
  "kernelspec": {
   "display_name": "Python 3",
   "language": "python",
   "name": "python3"
  },
  "language_info": {
   "codemirror_mode": {
    "name": "ipython",
    "version": 3
   },
   "file_extension": ".py",
   "mimetype": "text/x-python",
   "name": "python",
   "nbconvert_exporter": "python",
   "pygments_lexer": "ipython3",
   "version": "3.6.1"
  }
 },
 "nbformat": 4,
 "nbformat_minor": 2
}
