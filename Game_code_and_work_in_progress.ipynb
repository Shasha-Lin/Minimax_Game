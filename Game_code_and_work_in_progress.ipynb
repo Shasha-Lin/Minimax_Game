{
 "cells": [
  {
   "cell_type": "code",
   "execution_count": 6,
   "metadata": {},
   "outputs": [
    {
     "data": {
      "text/plain": [
       "0.0625"
      ]
     },
     "execution_count": 6,
     "metadata": {},
     "output_type": "execute_result"
    }
   ],
   "source": [
    ".1/1.6"
   ]
  },
  {
   "cell_type": "code",
   "execution_count": 5,
   "metadata": {},
   "outputs": [
    {
     "data": {
      "text/plain": [
       "0.0009765625"
      ]
     },
     "execution_count": 5,
     "metadata": {},
     "output_type": "execute_result"
    }
   ],
   "source": [
    "pow(2, 10)/pow(2, 20)"
   ]
  },
  {
   "cell_type": "markdown",
   "metadata": {},
   "source": [
    "### Setup"
   ]
  },
  {
   "cell_type": "code",
   "execution_count": 2,
   "metadata": {
    "collapsed": true
   },
   "outputs": [],
   "source": [
    "from __future__ import division\n",
    "import numpy as np\n",
    "import time\n",
    "import math\n",
    "import sys\n",
    "from scipy import stats\n",
    "\n",
    "# For browser notifications when code has completed\n",
    "% load_ext jupyternotify\n",
    "\n",
    "# For plotting\n",
    "import matplotlib.pyplot as plt\n",
    "% matplotlib inline\n",
    "\n",
    "# Correctly represent infinity depending on python version\n",
    "if sys.version_info[0] >= 3:\n",
    "    inf = math.inf\n",
    "else:\n",
    "    inf = float(\"inf\")"
   ]
  },
  {
   "cell_type": "markdown",
   "metadata": {},
   "source": [
    "### Game Graph Class"
   ]
  },
  {
   "cell_type": "code",
   "execution_count": 3,
   "metadata": {
    "collapsed": true
   },
   "outputs": [],
   "source": [
    "# Node class\n",
    "class node:\n",
    "    '''A simple node in a binary tree'''\n",
    "    def __init__(self, value=None, left=None, right=None, parent=None):\n",
    "        self.value = value\n",
    "        self.left = left\n",
    "        self.right = right\n",
    "        self.parent = parent\n",
    "\n",
    "# Naive implementation        \n",
    "def make_children(source):\n",
    "    '''Creates and returns left and right children for source node'''\n",
    "    left = node(parent=source)\n",
    "    right = node(parent=source)\n",
    "    source.left = left\n",
    "    source.right = right\n",
    "    return left, right\n",
    "\n",
    "def make_tree(n):\n",
    "    '''Builds a tree of depth n'''\n",
    "    source = node()\n",
    "    tree = [[] for i in range(n+1)]  # i is depth\n",
    "    tree[0].append(source)\n",
    "    # Add children depth-by-depth\n",
    "    for i in range(n):\n",
    "        for j in range(pow(2, i)):\n",
    "            tree[i+1]+=make_children(tree[i][j])\n",
    "    # Compute random leaf values\n",
    "    for leaf in tree[-1]:\n",
    "        leaf.value = 2*np.random.random()-1\n",
    "    return tree\n",
    "\n",
    "# Faster implementation\n",
    "def make_tree_fast(n):\n",
    "    '''Builds a tree of depth n without storing parent/child relationships'''\n",
    "    # Create the root node\n",
    "    source = [[node()]]\n",
    "    \n",
    "    # Create the middle levels of the tree\n",
    "    nodes = [range(2**depth) for depth in range(1, n)]\n",
    "    tree = [[node() for v in level] for level in nodes]\n",
    "\n",
    "    # Create the leaves\n",
    "    leaves = [[node(value=(2*np.random.random()-1)) for v in range(2**n)]]\n",
    "            \n",
    "    # Combine and return tree\n",
    "    tree = source + tree + leaves\n",
    "    return tree\n",
    "    \n",
    "# Utility functions\n",
    "def print_tree(tree):\n",
    "    '''Prints value of all nodes in tree by depth'''\n",
    "    for depth, level in enumerate(tree):\n",
    "        vals = [v.value for v in level]\n",
    "        print('Depth {} has {} nodes: {}'.format(depth, len(vals), vals))\n",
    "    print('')\n",
    "\n",
    "def get_value(tree):    \n",
    "    '''Returns value of root node'''\n",
    "    return tree[0][0].value\n",
    "    \n",
    "def print_value(tree):\n",
    "    '''Prints value of root node'''\n",
    "    print('The value to the first player, Paul, is: {}'.format(get_value(tree)))"
   ]
  },
  {
   "cell_type": "markdown",
   "metadata": {},
   "source": [
    "### Value Calculation"
   ]
  },
  {
   "cell_type": "code",
   "execution_count": 4,
   "metadata": {
    "collapsed": true
   },
   "outputs": [],
   "source": [
    "def DFS_visit(tree, depth=0, key=0, Paul=True):\n",
    "    '''Computes the value for each node'''\n",
    "    current_node = tree[depth][key]\n",
    "    if not current_node.value:\n",
    "        DFS_visit(tree, depth+1, 2*key, Paul=not Paul)  # Left\n",
    "        DFS_visit(tree, depth+1, 2*key+1, Paul=not Paul)  # Right\n",
    "        \n",
    "        left_child = tree[depth+1][2*key]\n",
    "        right_child = tree[depth+1][2*key+1]\n",
    "        \n",
    "        if left_child.value:\n",
    "            if right_child.value:\n",
    "                if Paul:  # Maximizing player\n",
    "                    current_node.value = max(left_child.value, right_child.value)\n",
    "                else:  # Minimizing player\n",
    "                    current_node.value = min(left_child.value, right_child.value)   \n",
    "\n",
    "def DFS_visit_fast(tree, depth=0, key=0, alpha=-inf, beta=inf, Paul=True):\n",
    "    '''Computes the values for nodes with alpha-beta pruning to limit search'''\n",
    "    current_node = tree[depth][key]\n",
    "    if not current_node.value:\n",
    "        left_child = tree[depth+1][2*key]\n",
    "        right_child = tree[depth+1][2*key+1]\n",
    "\n",
    "        if Paul:  # Maximizing player\n",
    "            v = -inf\n",
    "            \n",
    "            # Left\n",
    "            DFS_visit_fast(tree, depth+1, 2*key, alpha, beta, Paul=not Paul)\n",
    "            v = max(v, left_child.value)\n",
    "            alpha = max(alpha, v)\n",
    "            \n",
    "            # Right\n",
    "            if beta > alpha:\n",
    "                DFS_visit_fast(tree, depth+1, 2*key+1, alpha, beta, Paul=not Paul)\n",
    "                v = max(v, right_child.value)\n",
    "                alpha = max(alpha, v)\n",
    "            \n",
    "        else:  # Minimizing player\n",
    "            v = inf\n",
    "            \n",
    "            # Left\n",
    "            DFS_visit_fast(tree, depth+1, 2*key, alpha, beta, Paul=not Paul)\n",
    "            v = min(v, left_child.value)\n",
    "            beta = min(beta, v)\n",
    "            \n",
    "            # Right\n",
    "            if beta > alpha:\n",
    "                DFS_visit_fast(tree, depth+1, 2*key+1, alpha, beta, Paul=not Paul)\n",
    "                v = min(v, right_child.value)\n",
    "                beta = min(beta, v)\n",
    "\n",
    "        current_node.value = v"
   ]
  },
  {
   "cell_type": "markdown",
   "metadata": {},
   "source": [
    "### Example"
   ]
  },
  {
   "cell_type": "code",
   "execution_count": 4,
   "metadata": {
    "scrolled": false
   },
   "outputs": [
    {
     "name": "stdout",
     "output_type": "stream",
     "text": [
      "Time to build tree of depth 4 naively: 0.0 sec\n",
      "Time to build tree of depth 4 more quickly: 0.0010025501251220703 sec\n",
      "Time to compute values for tree of depth 4 without alpha-beta pruning: 0.0 sec\n",
      "Time to compute values for tree of depth 4 with alpha-beta pruning: 0.0 sec\n",
      "\n",
      "Depth 0 has 1 nodes: [0.34333009772388356]\n",
      "Depth 1 has 2 nodes: [-0.7815654127474327, 0.34333009772388356]\n",
      "Depth 2 has 4 nodes: [-0.7815654127474327, -0.17051822298610642, 0.5565461812553643, 0.34333009772388356]\n",
      "Depth 3 has 8 nodes: [-0.860151249730343, -0.7815654127474327, -0.17051822298610642, None, 0.5565461812553643, -0.558859311643551, -0.4064138178331176, 0.34333009772388356]\n",
      "Depth 4 has 16 nodes: [0.9602695885951622, -0.860151249730343, 0.22446607205856517, -0.7815654127474327, 0.3950887477393972, -0.17051822298610642, 0.7036502734250418, -0.8465246828526694, 0.5565461812553643, 0.7255743361783689, -0.558859311643551, 0.7786724285620494, -0.4064138178331176, -0.348148494068629, 0.34333009772388356, 0.7654653064598054]\n",
      "\n",
      "The value to the first player, Paul, is: 0.34333009772388356\n",
      "\n",
      "Depth 0 has 1 nodes: [0.34333009772388356]\n",
      "Depth 1 has 2 nodes: [-0.7815654127474327, 0.34333009772388356]\n",
      "Depth 2 has 4 nodes: [-0.7815654127474327, -0.17051822298610642, 0.5565461812553643, 0.34333009772388356]\n",
      "Depth 3 has 8 nodes: [-0.860151249730343, -0.7815654127474327, -0.17051822298610642, None, 0.5565461812553643, -0.558859311643551, -0.4064138178331176, 0.34333009772388356]\n",
      "Depth 4 has 16 nodes: [0.9602695885951622, -0.860151249730343, 0.22446607205856517, -0.7815654127474327, 0.3950887477393972, -0.17051822298610642, 0.7036502734250418, -0.8465246828526694, 0.5565461812553643, 0.7255743361783689, -0.558859311643551, 0.7786724285620494, -0.4064138178331176, -0.348148494068629, 0.34333009772388356, 0.7654653064598054]\n",
      "\n",
      "The value to the first player, Paul, is: 0.34333009772388356\n"
     ]
    }
   ],
   "source": [
    "# Example tree:\n",
    "n = 4\n",
    "\n",
    "t0 = time.time()\n",
    "example = make_tree(n)\n",
    "t1 = time.time()\n",
    "print('Time to build tree of depth {} naively: {} sec'.format(n, t1 - t0))\n",
    "\n",
    "t0 = time.time()\n",
    "example = make_tree_fast(n)\n",
    "leaves = example[-1]\n",
    "t1 = time.time()\n",
    "print('Time to build tree of depth {} more quickly: {} sec'.format(n, t1 - t0))\n",
    "\n",
    "# Example calculation:                 \n",
    "t0 = time.time()\n",
    "DFS_visit(example)\n",
    "t1 = time.time()\n",
    "print('Time to compute values for tree of depth {} without alpha-beta pruning: {} sec'.format(n, t1 - t0))\n",
    "\n",
    "example = make_tree_fast(n)\n",
    "example[-1] = leaves  # Same values to compare with alpha-beta\n",
    "\n",
    "t0 = time.time()\n",
    "DFS_visit_fast(example)\n",
    "t1 = time.time()\n",
    "print('Time to compute values for tree of depth {} with alpha-beta pruning: {} sec'.format(n, t1 - t0))\n",
    "\n",
    "print('')\n",
    "if n < 5:\n",
    "    print_tree(example)\n",
    "print_value(example)\n",
    "\n",
    "print('')    \n",
    "if n < 5:\n",
    "    print_tree(example)\n",
    "print_value(example)"
   ]
  },
  {
   "cell_type": "markdown",
   "metadata": {},
   "source": [
    "### Simulations\n",
    "#### 1 Advantage to playing last? Test the effect of parity of tree depth."
   ]
  },
  {
   "cell_type": "code",
   "execution_count": 5,
   "metadata": {},
   "outputs": [
    {
     "data": {
      "application/javascript": [
       "$(document).ready(\n",
       "    function() {\n",
       "        function appendUniqueDiv(){\n",
       "            // append a div with our uuid so we can check that it's already\n",
       "            // been sent and avoid duplicates on page reload\n",
       "            var notifiedDiv = document.createElement(\"div\")\n",
       "            notifiedDiv.id = \"d545c8e9-4716-4b7f-9312-2b826db4b180\"\n",
       "            element.append(notifiedDiv)\n",
       "        }\n",
       "\n",
       "        // only send notifications if the pageload is complete; this will\n",
       "        // help stop extra notifications when a saved notebook is loaded,\n",
       "        // which during testing gives us state \"interactive\", not \"complete\"\n",
       "        if (document.readyState === 'complete') {\n",
       "            // check for the div that signifies that the notification\n",
       "            // was already sent\n",
       "            if (document.getElementById(\"d545c8e9-4716-4b7f-9312-2b826db4b180\") === null) {\n",
       "                var notificationPayload = {\"requireInteraction\": false, \"body\": \"Tree building for even and odd trees\", \"icon\": \"/static/base/images/favicon.ico\"};\n",
       "                if (Notification.permission !== 'denied') {\n",
       "                    if (Notification.permission !== 'granted') { \n",
       "                        Notification.requestPermission(function (permission) {\n",
       "                            if(!('permission' in Notification)) {\n",
       "                                Notification.permission = permission\n",
       "                            }\n",
       "                        })\n",
       "                    }\n",
       "                    if (Notification.permission === 'granted') {\n",
       "                    var notification = new Notification(\"Jupyter Notebook\", notificationPayload)\n",
       "                    appendUniqueDiv()\n",
       "                    notification.onclick = function () {\n",
       "                        window.focus();\n",
       "                        this.close();\n",
       "                        };\n",
       "                    } \n",
       "                }     \n",
       "            }\n",
       "        }\n",
       "    }\n",
       ")\n"
      ],
      "text/plain": [
       "<IPython.core.display.Javascript object>"
      ]
     },
     "metadata": {},
     "output_type": "display_data"
    },
    {
     "data": {
      "application/javascript": [
       "$(document).ready(\n",
       "    function() {\n",
       "        function appendUniqueDiv(){\n",
       "            // append a div with our uuid so we can check that it's already\n",
       "            // been sent and avoid duplicates on page reload\n",
       "            var notifiedDiv = document.createElement(\"div\")\n",
       "            notifiedDiv.id = \"fbda74ec-826f-4172-98dc-6648b3a9d015\"\n",
       "            element.append(notifiedDiv)\n",
       "        }\n",
       "\n",
       "        // only send notifications if the pageload is complete; this will\n",
       "        // help stop extra notifications when a saved notebook is loaded,\n",
       "        // which during testing gives us state \"interactive\", not \"complete\"\n",
       "        if (document.readyState === 'complete') {\n",
       "            // check for the div that signifies that the notification\n",
       "            // was already sent\n",
       "            if (document.getElementById(\"fbda74ec-826f-4172-98dc-6648b3a9d015\") === null) {\n",
       "                var notificationPayload = {\"requireInteraction\": false, \"body\": \"Value computation for even and odd trees\", \"icon\": \"/static/base/images/favicon.ico\"};\n",
       "                if (Notification.permission !== 'denied') {\n",
       "                    if (Notification.permission !== 'granted') { \n",
       "                        Notification.requestPermission(function (permission) {\n",
       "                            if(!('permission' in Notification)) {\n",
       "                                Notification.permission = permission\n",
       "                            }\n",
       "                        })\n",
       "                    }\n",
       "                    if (Notification.permission === 'granted') {\n",
       "                    var notification = new Notification(\"Jupyter Notebook\", notificationPayload)\n",
       "                    appendUniqueDiv()\n",
       "                    notification.onclick = function () {\n",
       "                        window.focus();\n",
       "                        this.close();\n",
       "                        };\n",
       "                    } \n",
       "                }     \n",
       "            }\n",
       "        }\n",
       "    }\n",
       ")\n"
      ],
      "text/plain": [
       "<IPython.core.display.Javascript object>"
      ]
     },
     "metadata": {},
     "output_type": "display_data"
    }
   ],
   "source": [
    "# Create the lists of even and odd depths to use\n",
    "ks = np.random.randint(5, 10, 100)\n",
    "even_numbers = 2*ks\n",
    "plus_or_minus = np.random.choice((1, -1))\n",
    "odd_numbers = even_numbers + plus_or_minus\n",
    "\n",
    "# Build the trees\n",
    "even_trees = [make_tree_fast(n) for n in even_numbers]\n",
    "odd_trees = [make_tree_fast(n) for n in odd_numbers]\n",
    "%notify -m \"Tree building for even and odd trees\"\n",
    "\n",
    "# Compute values for the trees\n",
    "for tree in even_trees + odd_trees:\n",
    "    DFS_visit_fast(tree)\n",
    "%notify -m \"Value computation for even and odd trees\""
   ]
  },
  {
   "cell_type": "code",
   "execution_count": 6,
   "metadata": {},
   "outputs": [
    {
     "name": "stdout",
     "output_type": "stream",
     "text": [
      "Mean value to Paul for odd trees: 0.25747012795038204\n",
      "Mean value to Paul for even trees: -0.2228170980902363\n"
     ]
    },
    {
     "data": {
      "text/plain": [
       "Ttest_indResult(statistic=53.664161852236695, pvalue=1.2483813049820888e-119)"
      ]
     },
     "execution_count": 6,
     "metadata": {},
     "output_type": "execute_result"
    }
   ],
   "source": [
    "odd_values = [get_value(tree) for tree in odd_trees]\n",
    "even_values = [get_value(tree) for tree in even_trees]\n",
    "print('Mean value to Paul for odd trees: {}\\nMean value to Paul for even trees: {}'.format(np.mean(odd_values), np.mean(even_values)))\n",
    "stats.ttest_ind(odd_values, even_values, equal_var=False)\n",
    "# No advantage to playing last if pvalue > 0.05\n",
    "# Advantage to playing last if pvalue < 0.05"
   ]
  },
  {
   "cell_type": "markdown",
   "metadata": {},
   "source": [
    "#### 2. Advantage to playing first? Run t-test on all results against 0."
   ]
  },
  {
   "cell_type": "code",
   "execution_count": 7,
   "metadata": {},
   "outputs": [
    {
     "name": "stdout",
     "output_type": "stream",
     "text": [
      "Mean value to Paul for odd and even trees: 0.017326514930072853\n"
     ]
    },
    {
     "data": {
      "text/plain": [
       "Ttest_1sampResult(statistic=0.98452757832256066, pvalue=0.32605166659643692)"
      ]
     },
     "execution_count": 7,
     "metadata": {},
     "output_type": "execute_result"
    }
   ],
   "source": [
    "values = odd_values + even_values\n",
    "print('Mean value to Paul for odd and even trees: {}'.format(np.mean(values)))\n",
    "stats.ttest_1samp(values, popmean=0)\n",
    "# No advantage to playing first if pvalue > 0.05\n",
    "# Advantage to playing first if pvalue < 0.05"
   ]
  },
  {
   "cell_type": "markdown",
   "metadata": {},
   "source": [
    "#### 3. Variance and 4. Plot distribution of results"
   ]
  },
  {
   "cell_type": "code",
   "execution_count": 8,
   "metadata": {},
   "outputs": [
    {
     "data": {
      "application/javascript": [
       "$(document).ready(\n",
       "    function() {\n",
       "        function appendUniqueDiv(){\n",
       "            // append a div with our uuid so we can check that it's already\n",
       "            // been sent and avoid duplicates on page reload\n",
       "            var notifiedDiv = document.createElement(\"div\")\n",
       "            notifiedDiv.id = \"b786e969-e664-41df-af3d-f0e3cf056c8c\"\n",
       "            element.append(notifiedDiv)\n",
       "        }\n",
       "\n",
       "        // only send notifications if the pageload is complete; this will\n",
       "        // help stop extra notifications when a saved notebook is loaded,\n",
       "        // which during testing gives us state \"interactive\", not \"complete\"\n",
       "        if (document.readyState === 'complete') {\n",
       "            // check for the div that signifies that the notification\n",
       "            // was already sent\n",
       "            if (document.getElementById(\"b786e969-e664-41df-af3d-f0e3cf056c8c\") === null) {\n",
       "                var notificationPayload = {\"requireInteraction\": false, \"body\": \"Tree building for variance analysis (part 1)\", \"icon\": \"/static/base/images/favicon.ico\"};\n",
       "                if (Notification.permission !== 'denied') {\n",
       "                    if (Notification.permission !== 'granted') { \n",
       "                        Notification.requestPermission(function (permission) {\n",
       "                            if(!('permission' in Notification)) {\n",
       "                                Notification.permission = permission\n",
       "                            }\n",
       "                        })\n",
       "                    }\n",
       "                    if (Notification.permission === 'granted') {\n",
       "                    var notification = new Notification(\"Jupyter Notebook\", notificationPayload)\n",
       "                    appendUniqueDiv()\n",
       "                    notification.onclick = function () {\n",
       "                        window.focus();\n",
       "                        this.close();\n",
       "                        };\n",
       "                    } \n",
       "                }     \n",
       "            }\n",
       "        }\n",
       "    }\n",
       ")\n"
      ],
      "text/plain": [
       "<IPython.core.display.Javascript object>"
      ]
     },
     "metadata": {},
     "output_type": "display_data"
    },
    {
     "data": {
      "application/javascript": [
       "$(document).ready(\n",
       "    function() {\n",
       "        function appendUniqueDiv(){\n",
       "            // append a div with our uuid so we can check that it's already\n",
       "            // been sent and avoid duplicates on page reload\n",
       "            var notifiedDiv = document.createElement(\"div\")\n",
       "            notifiedDiv.id = \"41aecdc3-3c22-42d6-a73a-7ccf14884e3e\"\n",
       "            element.append(notifiedDiv)\n",
       "        }\n",
       "\n",
       "        // only send notifications if the pageload is complete; this will\n",
       "        // help stop extra notifications when a saved notebook is loaded,\n",
       "        // which during testing gives us state \"interactive\", not \"complete\"\n",
       "        if (document.readyState === 'complete') {\n",
       "            // check for the div that signifies that the notification\n",
       "            // was already sent\n",
       "            if (document.getElementById(\"41aecdc3-3c22-42d6-a73a-7ccf14884e3e\") === null) {\n",
       "                var notificationPayload = {\"requireInteraction\": false, \"body\": \"Value computation for variance analysis (part 2)\", \"icon\": \"/static/base/images/favicon.ico\"};\n",
       "                if (Notification.permission !== 'denied') {\n",
       "                    if (Notification.permission !== 'granted') { \n",
       "                        Notification.requestPermission(function (permission) {\n",
       "                            if(!('permission' in Notification)) {\n",
       "                                Notification.permission = permission\n",
       "                            }\n",
       "                        })\n",
       "                    }\n",
       "                    if (Notification.permission === 'granted') {\n",
       "                    var notification = new Notification(\"Jupyter Notebook\", notificationPayload)\n",
       "                    appendUniqueDiv()\n",
       "                    notification.onclick = function () {\n",
       "                        window.focus();\n",
       "                        this.close();\n",
       "                        };\n",
       "                    } \n",
       "                }     \n",
       "            }\n",
       "        }\n",
       "    }\n",
       ")\n"
      ],
      "text/plain": [
       "<IPython.core.display.Javascript object>"
      ]
     },
     "metadata": {},
     "output_type": "display_data"
    },
    {
     "name": "stdout",
     "output_type": "stream",
     "text": [
      "With depth of 15, the average value for the first player, Paul, is: 0.25\n",
      "With depth of 15, the standard deviation for the value for the first player, Paul, is: 0.03\n"
     ]
    },
    {
     "data": {
      "image/png": "[encoded data removed]",
      "text/plain": [
       "<matplotlib.figure.Figure at 0x2891686a080>"
      ]
     },
     "metadata": {},
     "output_type": "display_data"
    },
    {
     "data": {
      "application/javascript": [
       "$(document).ready(\n",
       "    function() {\n",
       "        function appendUniqueDiv(){\n",
       "            // append a div with our uuid so we can check that it's already\n",
       "            // been sent and avoid duplicates on page reload\n",
       "            var notifiedDiv = document.createElement(\"div\")\n",
       "            notifiedDiv.id = \"727c9dc3-d7da-45cb-8ff5-84a04524bb68\"\n",
       "            element.append(notifiedDiv)\n",
       "        }\n",
       "\n",
       "        // only send notifications if the pageload is complete; this will\n",
       "        // help stop extra notifications when a saved notebook is loaded,\n",
       "        // which during testing gives us state \"interactive\", not \"complete\"\n",
       "        if (document.readyState === 'complete') {\n",
       "            // check for the div that signifies that the notification\n",
       "            // was already sent\n",
       "            if (document.getElementById(\"727c9dc3-d7da-45cb-8ff5-84a04524bb68\") === null) {\n",
       "                var notificationPayload = {\"requireInteraction\": false, \"body\": \"Tree building for variance analysis (part 2)\", \"icon\": \"/static/base/images/favicon.ico\"};\n",
       "                if (Notification.permission !== 'denied') {\n",
       "                    if (Notification.permission !== 'granted') { \n",
       "                        Notification.requestPermission(function (permission) {\n",
       "                            if(!('permission' in Notification)) {\n",
       "                                Notification.permission = permission\n",
       "                            }\n",
       "                        })\n",
       "                    }\n",
       "                    if (Notification.permission === 'granted') {\n",
       "                    var notification = new Notification(\"Jupyter Notebook\", notificationPayload)\n",
       "                    appendUniqueDiv()\n",
       "                    notification.onclick = function () {\n",
       "                        window.focus();\n",
       "                        this.close();\n",
       "                        };\n",
       "                    } \n",
       "                }     \n",
       "            }\n",
       "        }\n",
       "    }\n",
       ")\n"
      ],
      "text/plain": [
       "<IPython.core.display.Javascript object>"
      ]
     },
     "metadata": {},
     "output_type": "display_data"
    },
    {
     "data": {
      "application/javascript": [
       "$(document).ready(\n",
       "    function() {\n",
       "        function appendUniqueDiv(){\n",
       "            // append a div with our uuid so we can check that it's already\n",
       "            // been sent and avoid duplicates on page reload\n",
       "            var notifiedDiv = document.createElement(\"div\")\n",
       "            notifiedDiv.id = \"b0e277c1-d088-4e9a-8c09-fc3bfb23d943\"\n",
       "            element.append(notifiedDiv)\n",
       "        }\n",
       "\n",
       "        // only send notifications if the pageload is complete; this will\n",
       "        // help stop extra notifications when a saved notebook is loaded,\n",
       "        // which during testing gives us state \"interactive\", not \"complete\"\n",
       "        if (document.readyState === 'complete') {\n",
       "            // check for the div that signifies that the notification\n",
       "            // was already sent\n",
       "            if (document.getElementById(\"b0e277c1-d088-4e9a-8c09-fc3bfb23d943\") === null) {\n",
       "                var notificationPayload = {\"requireInteraction\": false, \"body\": \"Value computation for variance analysis (part 2)\", \"icon\": \"/static/base/images/favicon.ico\"};\n",
       "                if (Notification.permission !== 'denied') {\n",
       "                    if (Notification.permission !== 'granted') { \n",
       "                        Notification.requestPermission(function (permission) {\n",
       "                            if(!('permission' in Notification)) {\n",
       "                                Notification.permission = permission\n",
       "                            }\n",
       "                        })\n",
       "                    }\n",
       "                    if (Notification.permission === 'granted') {\n",
       "                    var notification = new Notification(\"Jupyter Notebook\", notificationPayload)\n",
       "                    appendUniqueDiv()\n",
       "                    notification.onclick = function () {\n",
       "                        window.focus();\n",
       "                        this.close();\n",
       "                        };\n",
       "                    } \n",
       "                }     \n",
       "            }\n",
       "        }\n",
       "    }\n",
       ")\n"
      ],
      "text/plain": [
       "<IPython.core.display.Javascript object>"
      ]
     },
     "metadata": {},
     "output_type": "display_data"
    },
    {
     "name": "stdout",
     "output_type": "stream",
     "text": [
      "With depth of 16, the average value for the first player, Paul, is: -0.23\n",
      "With depth of 16, the standard deviation for the value for the first player, Paul, is: 0.03\n"
     ]
    },
    {
     "data": {
      "image/png": "[encoded data removed]",
      "text/plain": [
       "<matplotlib.figure.Figure at 0x289fe2f95f8>"
      ]
     },
     "metadata": {},
     "output_type": "display_data"
    }
   ],
   "source": [
    "ns = [15]*100\n",
    "trees15 = [make_tree_fast(n) for n in ns]\n",
    "%notify -m \"Tree building for variance analysis (part 1)\"\n",
    "for tree in trees15:\n",
    "    DFS_visit_fast(tree)\n",
    "%notify -m \"Value computation for variance analysis (part 1)\"\n",
    "    \n",
    "values = [get_value(tree) for tree in trees15]\n",
    "print('With depth of %d, the average value for the first player, Paul, is: %.2f' % (ns[0], np.mean(values)))\n",
    "print('With depth of %d, the standard deviation for the value for the first player, Paul, is: %.2f' % (ns[0], np.std(values)))\n",
    "\n",
    "n, bins, patches = plt.hist(values, bins=9)\n",
    "plt.xlabel('Value to the first player, Paul')\n",
    "plt.ylabel('Frequency')\n",
    "plt.title('Depth of %d' % ns[0])\n",
    "plt.show()\n",
    "\n",
    "ns = [16]*100\n",
    "trees16 = [make_tree_fast(n) for n in ns]\n",
    "%notify -m \"Tree building for variance analysis (part 2)\"\n",
    "for tree in trees16:\n",
    "    DFS_visit_fast(tree)\n",
    "%notify -m \"Value computation for variance analysis (part 2)\"\n",
    "    \n",
    "values = [get_value(tree) for tree in trees16]\n",
    "print('With depth of %d, the average value for the first player, Paul, is: %.2f' % (ns[0], np.mean(values)))\n",
    "print('With depth of %d, the standard deviation for the value for the first player, Paul, is: %.2f' % (ns[0], np.std(values)))\n",
    "\n",
    "n, bins, patches = plt.hist(values, bins=9)\n",
    "plt.xlabel('Value to the first player, Paul')\n",
    "plt.ylabel('Frequency')\n",
    "plt.title('Depth of %d' % ns[0])\n",
    "plt.show()"
   ]
  },
  {
   "cell_type": "markdown",
   "metadata": {
    "collapsed": true
   },
   "source": [
    "#### 5. Determine $\\lim_{n\\rightarrow \\infty}Value[s]$"
   ]
  },
  {
   "cell_type": "code",
   "execution_count": 9,
   "metadata": {},
   "outputs": [
    {
     "name": "stdout",
     "output_type": "stream",
     "text": [
      "Time to build tree of depth 20: 2.7783894538879395 sec\n"
     ]
    },
    {
     "data": {
      "application/javascript": [
       "$(document).ready(\n",
       "    function() {\n",
       "        function appendUniqueDiv(){\n",
       "            // append a div with our uuid so we can check that it's already\n",
       "            // been sent and avoid duplicates on page reload\n",
       "            var notifiedDiv = document.createElement(\"div\")\n",
       "            notifiedDiv.id = \"029c5b96-2473-4d0c-81c6-11e06216af93\"\n",
       "            element.append(notifiedDiv)\n",
       "        }\n",
       "\n",
       "        // only send notifications if the pageload is complete; this will\n",
       "        // help stop extra notifications when a saved notebook is loaded,\n",
       "        // which during testing gives us state \"interactive\", not \"complete\"\n",
       "        if (document.readyState === 'complete') {\n",
       "            // check for the div that signifies that the notification\n",
       "            // was already sent\n",
       "            if (document.getElementById(\"029c5b96-2473-4d0c-81c6-11e06216af93\") === null) {\n",
       "                var notificationPayload = {\"requireInteraction\": false, \"body\": \"Tree building for large n\", \"icon\": \"/static/base/images/favicon.ico\"};\n",
       "                if (Notification.permission !== 'denied') {\n",
       "                    if (Notification.permission !== 'granted') { \n",
       "                        Notification.requestPermission(function (permission) {\n",
       "                            if(!('permission' in Notification)) {\n",
       "                                Notification.permission = permission\n",
       "                            }\n",
       "                        })\n",
       "                    }\n",
       "                    if (Notification.permission === 'granted') {\n",
       "                    var notification = new Notification(\"Jupyter Notebook\", notificationPayload)\n",
       "                    appendUniqueDiv()\n",
       "                    notification.onclick = function () {\n",
       "                        window.focus();\n",
       "                        this.close();\n",
       "                        };\n",
       "                    } \n",
       "                }     \n",
       "            }\n",
       "        }\n",
       "    }\n",
       ")\n"
      ],
      "text/plain": [
       "<IPython.core.display.Javascript object>"
      ]
     },
     "metadata": {},
     "output_type": "display_data"
    },
    {
     "name": "stdout",
     "output_type": "stream",
     "text": [
      "Time to compute values for tree of depth 20 with alpha-beta pruning: 0.12232542037963867 sec\n"
     ]
    },
    {
     "data": {
      "application/javascript": [
       "$(document).ready(\n",
       "    function() {\n",
       "        function appendUniqueDiv(){\n",
       "            // append a div with our uuid so we can check that it's already\n",
       "            // been sent and avoid duplicates on page reload\n",
       "            var notifiedDiv = document.createElement(\"div\")\n",
       "            notifiedDiv.id = \"0b0c6236-925b-4639-8472-0c12c7af6b47\"\n",
       "            element.append(notifiedDiv)\n",
       "        }\n",
       "\n",
       "        // only send notifications if the pageload is complete; this will\n",
       "        // help stop extra notifications when a saved notebook is loaded,\n",
       "        // which during testing gives us state \"interactive\", not \"complete\"\n",
       "        if (document.readyState === 'complete') {\n",
       "            // check for the div that signifies that the notification\n",
       "            // was already sent\n",
       "            if (document.getElementById(\"0b0c6236-925b-4639-8472-0c12c7af6b47\") === null) {\n",
       "                var notificationPayload = {\"requireInteraction\": false, \"body\": \"Value computation for large n\", \"icon\": \"/static/base/images/favicon.ico\"};\n",
       "                if (Notification.permission !== 'denied') {\n",
       "                    if (Notification.permission !== 'granted') { \n",
       "                        Notification.requestPermission(function (permission) {\n",
       "                            if(!('permission' in Notification)) {\n",
       "                                Notification.permission = permission\n",
       "                            }\n",
       "                        })\n",
       "                    }\n",
       "                    if (Notification.permission === 'granted') {\n",
       "                    var notification = new Notification(\"Jupyter Notebook\", notificationPayload)\n",
       "                    appendUniqueDiv()\n",
       "                    notification.onclick = function () {\n",
       "                        window.focus();\n",
       "                        this.close();\n",
       "                        };\n",
       "                    } \n",
       "                }     \n",
       "            }\n",
       "        }\n",
       "    }\n",
       ")\n"
      ],
      "text/plain": [
       "<IPython.core.display.Javascript object>"
      ]
     },
     "metadata": {},
     "output_type": "display_data"
    }
   ],
   "source": [
    "large_n = 20\n",
    "\n",
    "t0 = time.time()\n",
    "large_tree = make_tree_fast(large_n)\n",
    "t1 = time.time()\n",
    "print('Time to build tree of depth {}: {} sec'.format(large_n, t1 - t0))\n",
    "%notify -m \"Tree building for large n\"\n",
    "\n",
    "t0 = time.time()\n",
    "DFS_visit_fast(large_tree)\n",
    "t1 = time.time()\n",
    "print('Time to compute values for tree of depth {} with alpha-beta pruning: {} sec'.format(large_n, t1 - t0))\n",
    "%notify -m \"Value computation for large n\""
   ]
  }
 ],
 "metadata": {
  "anaconda-cloud": {},
  "kernelspec": {
   "display_name": "Python 3",
   "language": "python",
   "name": "python3"
  },
  "language_info": {
   "codemirror_mode": {
    "name": "ipython",
    "version": 3
   },
   "file_extension": ".py",
   "mimetype": "text/x-python",
   "name": "python",
   "nbconvert_exporter": "python",
   "pygments_lexer": "ipython3",
   "version": "3.6.1"
  }
 },
 "nbformat": 4,
 "nbformat_minor": 2
}
